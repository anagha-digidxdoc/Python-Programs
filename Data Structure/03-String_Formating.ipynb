{
 "cells": [
  {
   "cell_type": "markdown",
   "id": "983447e1",
   "metadata": {},
   "source": [
    "## String Formating"
   ]
  },
  {
   "cell_type": "markdown",
   "id": "62c82de5",
   "metadata": {},
   "source": [
    "String formatting lets you inject items into a string rather than trying to chain items together using commas or string concatenation. As a quick comparison, consider:\n",
    "\n",
    "player = 'Thomas'\n",
    "\n",
    "points = 33\n",
    "\n",
    "\n",
    "'Last night, '+player+' scored '+str(points)+' points.'  # concatenation\n",
    "\n",
    "f'Last night, {player} scored {points} points.'          # string formatting"
   ]
  },
  {
   "cell_type": "markdown",
   "id": "26a8f55a",
   "metadata": {},
   "source": [
    "There are three ways to perform string formatting.\n",
    "\n",
    "The oldest method involves placeholders using the modulo % character.\n",
    "\n",
    "An improved technique uses the .format() string method.\n",
    "\n",
    "The newest method, introduced with Python 3.6, uses formatted string literals, called f-strings."
   ]
  },
  {
   "cell_type": "markdown",
   "id": "b2a4e45b",
   "metadata": {},
   "source": [
    "### Formatting with placeholders"
   ]
  },
  {
   "cell_type": "markdown",
   "id": "e4cabbcd",
   "metadata": {},
   "source": [
    "You can use %s to inject strings into your print statements. The modulo % is referred to as a \"string formatting operator\"."
   ]
  },
  {
   "cell_type": "code",
   "execution_count": 1,
   "id": "311d0959",
   "metadata": {},
   "outputs": [
    {
     "name": "stdout",
     "output_type": "stream",
     "text": [
      "I am going to inject somthing here.\n"
     ]
    }
   ],
   "source": [
    "print('I am going to inject %s here.'%'somthing')"
   ]
  },
  {
   "cell_type": "code",
   "execution_count": 3,
   "id": "1142abca",
   "metadata": {},
   "outputs": [
    {
     "name": "stdout",
     "output_type": "stream",
     "text": [
      "I am going to inject some text here, and more text here.\n"
     ]
    }
   ],
   "source": [
    "# You can pass multiple items by placing them inside a tuple after the % operator.\n",
    "\n",
    "print('I am going to inject %s text here, and %s text here.'%('some', 'more'))"
   ]
  },
  {
   "cell_type": "code",
   "execution_count": 4,
   "id": "63716c68",
   "metadata": {},
   "outputs": [
    {
     "name": "stdout",
     "output_type": "stream",
     "text": [
      "I'm goint to inject some text here, and  more text here.\n"
     ]
    }
   ],
   "source": [
    "# You can also pass variable names:\n",
    "x, y = 'some', 'more'\n",
    "print(\"I'm goint to inject %s text here, and  %s text here.\"%(x, y))"
   ]
  },
  {
   "cell_type": "markdown",
   "id": "a1d8655d",
   "metadata": {},
   "source": [
    "### Format conversion methods."
   ]
  },
  {
   "cell_type": "markdown",
   "id": "0df77db5",
   "metadata": {},
   "source": [
    "It should be noted that two methods %s and %r convert any python object to a string using two separate methods: str() and repr(). %r and repr() deliver the string representation of the object, including quotation marks and any escape characters."
   ]
  },
  {
   "cell_type": "code",
   "execution_count": 5,
   "id": "50b202ca",
   "metadata": {},
   "outputs": [
    {
     "name": "stdout",
     "output_type": "stream",
     "text": [
      "He said his name was Fred.\n",
      "He said his name was 'Fred'.\n"
     ]
    }
   ],
   "source": [
    "print(\"He said his name was %s.\" %'Fred')\n",
    "print(\"He said his name was %r.\" %'Fred')"
   ]
  },
  {
   "cell_type": "code",
   "execution_count": 6,
   "id": "addf985c",
   "metadata": {},
   "outputs": [
    {
     "name": "stdout",
     "output_type": "stream",
     "text": [
      "I once caught a fish this \tbig.\n",
      "I once caught a fish 'this \\tbig'.\n"
     ]
    }
   ],
   "source": [
    "# As another example, \\t inserts a tab into a string.\n",
    "\n",
    "print('I once caught a fish %s.' %'this \\tbig')\n",
    "print('I once caught a fish %r.' %'this \\tbig')\n"
   ]
  },
  {
   "cell_type": "markdown",
   "id": "d5b1093e",
   "metadata": {},
   "source": [
    "The %s operator converts whatever it sees into a string, including integers and floats. The %d operator converts numbers to integers first, without rounding. Note the difference below:"
   ]
  },
  {
   "cell_type": "code",
   "execution_count": 7,
   "id": "87627640",
   "metadata": {},
   "outputs": [
    {
     "name": "stdout",
     "output_type": "stream",
     "text": [
      "I wrote 3.75 programs today.\n",
      "I wrote 3 programs today.\n"
     ]
    }
   ],
   "source": [
    "print('I wrote %s programs today.' %3.75)\n",
    "print('I wrote %d programs today.' %3.75)"
   ]
  },
  {
   "cell_type": "markdown",
   "id": "94883827",
   "metadata": {},
   "source": [
    "### Padding and Precision of Floating point numbers"
   ]
  },
  {
   "cell_type": "markdown",
   "id": "aa98386c",
   "metadata": {},
   "source": [
    "Floating point numbers use the format %5.2f. Here, 5 would be the minimum number of characters the string should contain; these may be padded with whitespace if the entire number does not have this many digits. Next to this, .2f stands for how many numbers to show past the decimal point. Let's see some examples:"
   ]
  },
  {
   "cell_type": "code",
   "execution_count": 13,
   "id": "32a8ecb7",
   "metadata": {},
   "outputs": [
    {
     "name": "stdout",
     "output_type": "stream",
     "text": [
      "Floating point numbers: 13.14\n"
     ]
    }
   ],
   "source": [
    "print('Floating point numbers: %5.2f' %(13.144))"
   ]
  },
  {
   "cell_type": "code",
   "execution_count": 14,
   "id": "7717d22d",
   "metadata": {},
   "outputs": [
    {
     "name": "stdout",
     "output_type": "stream",
     "text": [
      "Floating point number: 13\n"
     ]
    }
   ],
   "source": [
    "print(\"Floating point number: %1.0f\" %(13.144))"
   ]
  },
  {
   "cell_type": "code",
   "execution_count": 16,
   "id": "6dce5d1e",
   "metadata": {},
   "outputs": [
    {
     "name": "stdout",
     "output_type": "stream",
     "text": [
      "Floating point number: 13.14400\n"
     ]
    }
   ],
   "source": [
    "print('Floating point number: %1.5f' %(13.144))"
   ]
  },
  {
   "cell_type": "code",
   "execution_count": 17,
   "id": "33348722",
   "metadata": {},
   "outputs": [
    {
     "name": "stdout",
     "output_type": "stream",
     "text": [
      "Floating point numbers:      13.14\n"
     ]
    }
   ],
   "source": [
    "print('Floating point numbers: %10.2f' %(13.144))"
   ]
  },
  {
   "cell_type": "code",
   "execution_count": 18,
   "id": "9875c21a",
   "metadata": {},
   "outputs": [
    {
     "name": "stdout",
     "output_type": "stream",
     "text": [
      "Floating point numbers:                     13.14\n"
     ]
    }
   ],
   "source": [
    "print('Floating point numbers: %25.2f' %(13.144))"
   ]
  },
  {
   "cell_type": "markdown",
   "id": "f9858d60",
   "metadata": {},
   "source": [
    "### Multiple Formating"
   ]
  },
  {
   "cell_type": "markdown",
   "id": "db633318",
   "metadata": {},
   "source": [
    "Nothing prohibits using more than one conversion tool in the same print statement:\n",
    "\n"
   ]
  },
  {
   "cell_type": "code",
   "execution_count": 19,
   "id": "34d9d08c",
   "metadata": {},
   "outputs": [
    {
     "name": "stdout",
     "output_type": "stream",
     "text": [
      "First: hi!, second:  3.12, Third: 'bye!'\n"
     ]
    }
   ],
   "source": [
    "print('First: %s, second: %5.2f, Third: %r' %('hi!', 3.1222, 'bye!'))"
   ]
  },
  {
   "cell_type": "markdown",
   "id": "e5fa91ee",
   "metadata": {},
   "source": [
    "### Formating with .format() method\n",
    "\n",
    "A better way to format objects into your strings for print statements is with the string .format() method. The syntax is:\n",
    "\n",
    "'String here {} then also {}'.format('something1','something2')"
   ]
  },
  {
   "cell_type": "code",
   "execution_count": 20,
   "id": "025a82cd",
   "metadata": {},
   "outputs": [
    {
     "name": "stdout",
     "output_type": "stream",
     "text": [
      "This is a string with an insert\n"
     ]
    }
   ],
   "source": [
    "print('This is a string with an {}'.format('insert'))"
   ]
  },
  {
   "cell_type": "markdown",
   "id": "dbd9bc0d",
   "metadata": {},
   "source": [
    "### The .format() method has several advantages over the %s placeholder method:"
   ]
  },
  {
   "cell_type": "markdown",
   "id": "4da384f6",
   "metadata": {},
   "source": [
    "##### 1. Inserted objects can be called by index position:"
   ]
  },
  {
   "cell_type": "code",
   "execution_count": 21,
   "id": "276f306d",
   "metadata": {},
   "outputs": [
    {
     "name": "stdout",
     "output_type": "stream",
     "text": [
      "The quick brown fox\n"
     ]
    }
   ],
   "source": [
    "print('The {2} {1} {0}'.format('fox', 'brown', 'quick'))"
   ]
  },
  {
   "cell_type": "markdown",
   "id": "fe18eced",
   "metadata": {},
   "source": [
    "##### 2. Inserted object can be assaigned key word"
   ]
  },
  {
   "cell_type": "code",
   "execution_count": 23,
   "id": "e8c32277",
   "metadata": {},
   "outputs": [
    {
     "name": "stdout",
     "output_type": "stream",
     "text": [
      "First object: 1, Second object: Two, Third object: 3.1\n"
     ]
    }
   ],
   "source": [
    "print('First object: {a}, Second object: {b}, Third object: {c}'.format(a=1, b='Two', c=3.1))"
   ]
  },
  {
   "cell_type": "markdown",
   "id": "3e1532b1",
   "metadata": {},
   "source": [
    "##### 3. Inserted object can be reused avoiding duplucation"
   ]
  },
  {
   "cell_type": "code",
   "execution_count": 24,
   "id": "b2c8f533",
   "metadata": {},
   "outputs": [
    {
     "name": "stdout",
     "output_type": "stream",
     "text": [
      "A penny saved is a penny earned.\n",
      "A penny saved is a penny earned.\n"
     ]
    }
   ],
   "source": [
    "print('A %s saved is a %s earned.' %('penny', 'penny'))\n",
    "print('A {p} saved is a {p} earned.'.format(p='penny'))"
   ]
  },
  {
   "cell_type": "markdown",
   "id": "3468531e",
   "metadata": {},
   "source": [
    "### Alignment, padding and precision with .format()"
   ]
  },
  {
   "cell_type": "markdown",
   "id": "954a150e",
   "metadata": {},
   "source": [
    "Within the curly braces you can assign field lengths, left/right alignments, rounding parameters and more"
   ]
  },
  {
   "cell_type": "code",
   "execution_count": 28,
   "id": "dadfe694",
   "metadata": {},
   "outputs": [
    {
     "name": "stdout",
     "output_type": "stream",
     "text": [
      "Fruit    | Quality  \n",
      "Apples   |       3.0\n",
      "Oranges  |        10\n"
     ]
    }
   ],
   "source": [
    "print('{0:8} | {1:9}'.format('Fruit', 'Quality'))\n",
    "print('{0:8} | {1:9}'.format('Apples', 3.))\n",
    "print('{0:8} | {1:9}'.format('Oranges', 10))"
   ]
  },
  {
   "cell_type": "markdown",
   "id": "e3b67cdf",
   "metadata": {},
   "source": [
    "By default, .format() aligns text to the left, numbers to the right. You can pass an optional <,^, or > to set a left, center or right alignment:"
   ]
  },
  {
   "cell_type": "code",
   "execution_count": 30,
   "id": "761a53ba",
   "metadata": {},
   "outputs": [
    {
     "name": "stdout",
     "output_type": "stream",
     "text": [
      "left     |  Center  |    Right\n",
      "11       |    22    |       33\n"
     ]
    }
   ],
   "source": [
    "print('{0:<8} | {1:^8} | {2:>8}'.format('left', 'Center', 'Right'))\n",
    "print('{0:<8} | {1:^8} | {2:>8}'.format(11, 22, 33))"
   ]
  },
  {
   "cell_type": "markdown",
   "id": "7a8ed166",
   "metadata": {},
   "source": [
    "You can precede the aligment operator with a padding character"
   ]
  },
  {
   "cell_type": "code",
   "execution_count": 31,
   "id": "574e812e",
   "metadata": {},
   "outputs": [
    {
     "name": "stdout",
     "output_type": "stream",
     "text": [
      "Left==== | -Center- | ...Right\n",
      "11====== | ---22--- | ......33\n"
     ]
    }
   ],
   "source": [
    "print('{0:=<8} | {1:-^8} | {2:.>8}'.format('Left', 'Center', 'Right'))\n",
    "print('{0:=<8} | {1:-^8} | {2:.>8}'.format(11, 22, 33))"
   ]
  },
  {
   "cell_type": "markdown",
   "id": "5e6f37fa",
   "metadata": {},
   "source": [
    "Field widths and float precision are handled in a way similar to placeholders. The following two print statements are equivalent:"
   ]
  },
  {
   "cell_type": "code",
   "execution_count": 33,
   "id": "fa8af18c",
   "metadata": {},
   "outputs": [
    {
     "name": "stdout",
     "output_type": "stream",
     "text": [
      "This is my ten-character, two-decimal number:     13.58\n",
      "This is my ten-character, two decimal number:     13.58\n"
     ]
    }
   ],
   "source": [
    "print(\"This is my ten-character, two-decimal number:%10.2f\" %13.576)\n",
    "print(\"This is my ten-character, two decimal number:{0:10.2f}\".format(13.576))"
   ]
  },
  {
   "cell_type": "markdown",
   "id": "a201ac7f",
   "metadata": {},
   "source": [
    "Note that there are 5 spaces following the colon, and 5 characters taken up by 13.58, for a total of ten characters."
   ]
  },
  {
   "cell_type": "markdown",
   "id": "bbce3689",
   "metadata": {},
   "source": [
    "### Formated string literals(f-strings)"
   ]
  },
  {
   "cell_type": "markdown",
   "id": "f0686e97",
   "metadata": {},
   "source": [
    "Introduced in Python 3.6, f-strings offer several benefits over the older .format() string method described above. For one, you can bring outside variables immediately into to the string rather than pass them as arguments through .format(var)."
   ]
  },
  {
   "cell_type": "code",
   "execution_count": 34,
   "id": "1c2d83eb",
   "metadata": {},
   "outputs": [
    {
     "name": "stdout",
     "output_type": "stream",
     "text": [
      "He said his name is Fred.\n"
     ]
    }
   ],
   "source": [
    "name = 'Fred'\n",
    "print(f'He said his name is {name}.')"
   ]
  },
  {
   "cell_type": "markdown",
   "id": "5a8f6b72",
   "metadata": {},
   "source": [
    "Pass !r to get the string representation:"
   ]
  },
  {
   "cell_type": "code",
   "execution_count": 35,
   "id": "630fd9e6",
   "metadata": {},
   "outputs": [
    {
     "name": "stdout",
     "output_type": "stream",
     "text": [
      "He said his name is 'Fred'\n"
     ]
    }
   ],
   "source": [
    "print(f\"He said his name is {name!r}\")"
   ]
  },
  {
   "cell_type": "markdown",
   "id": "297be34f",
   "metadata": {},
   "source": [
    "### Floating Format follows \"result: {value:{width}.{precision}}\""
   ]
  },
  {
   "cell_type": "markdown",
   "id": "cb559fd0",
   "metadata": {},
   "source": [
    "Where with the .format() method you might see {value:10.4f}, with f-strings this can become {value:{10}.{6}}"
   ]
  },
  {
   "cell_type": "code",
   "execution_count": 38,
   "id": "aa13b8f5",
   "metadata": {},
   "outputs": [
    {
     "name": "stdout",
     "output_type": "stream",
     "text": [
      "My 10 character, four decimal number is:   23.4568\n",
      "My 10 character, four decimal number is:   23.4568\n"
     ]
    }
   ],
   "source": [
    "\n",
    "num = 23.45678\n",
    "print(\"My 10 character, four decimal number is:{0:10.4f}\".format(num))\n",
    "print(f\"My 10 character, four decimal number is:{num:{10}.{6}}\")\n"
   ]
  },
  {
   "cell_type": "markdown",
   "id": "5978325f",
   "metadata": {},
   "source": [
    "Note that with f-strings, precision refers to the total number of digits, not just those following the decimal. This fits more closely with scientific notation and statistical analysis. Unfortunately, f-strings do not pad to the right of the decimal, even if precision allows it:"
   ]
  },
  {
   "cell_type": "code",
   "execution_count": 40,
   "id": "6c814472",
   "metadata": {},
   "outputs": [
    {
     "name": "stdout",
     "output_type": "stream",
     "text": [
      "My 10 character, four decimal number is:   23.4500\n",
      "My 10 character, four decimal number is:     23.45\n"
     ]
    }
   ],
   "source": [
    "num = 23.45\n",
    "print('My 10 character, four decimal number is:{0:10.4f}'.format(num))\n",
    "print(f'My 10 character, four decimal number is:{num:{10}.{6}}')"
   ]
  },
  {
   "cell_type": "markdown",
   "id": "baf5f3c4",
   "metadata": {},
   "source": [
    "If this becomes important, you can always use .format() method syntax inside an f-string:"
   ]
  },
  {
   "cell_type": "code",
   "execution_count": 42,
   "id": "bfef90bf",
   "metadata": {},
   "outputs": [
    {
     "name": "stdout",
     "output_type": "stream",
     "text": [
      "My 10 character, four decimal number is:   23.4500\n",
      "my 10 character, four decimal number is:   23.4500\n"
     ]
    }
   ],
   "source": [
    "num = 23.45\n",
    "print(\"My 10 character, four decimal number is:{0:10.4f}\".format(num))\n",
    "print(f\"my 10 character, four decimal number is:{num:10.4f}\")"
   ]
  }
 ],
 "metadata": {
  "kernelspec": {
   "display_name": "python",
   "language": "python",
   "name": "python3"
  },
  "language_info": {
   "codemirror_mode": {
    "name": "ipython",
    "version": 3
   },
   "file_extension": ".py",
   "mimetype": "text/x-python",
   "name": "python",
   "nbconvert_exporter": "python",
   "pygments_lexer": "ipython3",
   "version": "3.8.0"
  }
 },
 "nbformat": 4,
 "nbformat_minor": 5
}
