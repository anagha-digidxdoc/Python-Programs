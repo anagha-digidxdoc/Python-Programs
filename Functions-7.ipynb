{
 "cells": [
  {
   "cell_type": "markdown",
   "id": "95c8848d",
   "metadata": {},
   "source": [
    "# Functions"
   ]
  },
  {
   "cell_type": "code",
   "execution_count": 2,
   "id": "37b50530",
   "metadata": {},
   "outputs": [
    {
     "name": "stdout",
     "output_type": "stream",
     "text": [
      "type: <function my_first_function at 0x000001AC03EE6680>\n",
      "Hello world!\n"
     ]
    }
   ],
   "source": [
    "def my_first_function():\n",
    "    print(\"Hello world!\")\n",
    "\n",
    "print('type: {}'.format(my_first_function))\n",
    "my_first_function()"
   ]
  },
  {
   "cell_type": "markdown",
   "id": "dd02fb38",
   "metadata": {},
   "source": [
    "## Arguments"
   ]
  },
  {
   "cell_type": "code",
   "execution_count": 3,
   "id": "734f3f61",
   "metadata": {},
   "outputs": [
    {
     "name": "stdout",
     "output_type": "stream",
     "text": [
      "Hello Anu and Manu!\n"
     ]
    }
   ],
   "source": [
    "def greet_us(name1, name2):\n",
    "    print('Hello {} and {}!'.format(name1, name2))\n",
    "\n",
    "greet_us('Anu', 'Manu')"
   ]
  },
  {
   "cell_type": "code",
   "execution_count": 5,
   "id": "2b04b22f",
   "metadata": {},
   "outputs": [
    {
     "name": "stdout",
     "output_type": "stream",
     "text": [
      "pretty: mixed case\n"
     ]
    }
   ],
   "source": [
    "#Function with return value\n",
    "def strip_and_lowercase(original):\n",
    "    modified = original.strip().lower()\n",
    "    return modified\n",
    "uggly_string = 'MixED CaSe'\n",
    "pretty = strip_and_lowercase(uggly_string)\n",
    "print('pretty: {}'.format(pretty))"
   ]
  },
  {
   "cell_type": "markdown",
   "id": "73bff4cc",
   "metadata": {},
   "source": [
    "## Keyword arguments"
   ]
  },
  {
   "cell_type": "code",
   "execution_count": 6,
   "id": "7b23b849",
   "metadata": {},
   "outputs": [
    {
     "name": "stdout",
     "output_type": "stream",
     "text": [
      "6\n",
      "6\n",
      "6\n",
      "6\n"
     ]
    }
   ],
   "source": [
    "def my_fancy_calculation(first, second, third):\n",
    "    return first + second + third\n",
    "\n",
    "print(my_fancy_calculation(3, 2, 1))\n",
    "print(my_fancy_calculation(first=3, second=2, third= 1))\n",
    "\n",
    "#with key word arguments we can mix the order\n",
    "print(my_fancy_calculation(third=1, first=3, second=2))\n",
    "\n",
    "# you can mix arguments and keyword arguments but you have to start with arguments\n",
    "\n",
    "print(my_fancy_calculation(3, third=1, second=2))"
   ]
  },
  {
   "cell_type": "markdown",
   "id": "41525481",
   "metadata": {},
   "source": [
    "## Default argumemts \n"
   ]
  },
  {
   "cell_type": "code",
   "execution_count": 7,
   "id": "16572588",
   "metadata": {},
   "outputs": [
    {
     "name": "stdout",
     "output_type": "stream",
     "text": [
      "{'name': 'Anu', 'age': 23, 'salary': 300}\n",
      "{'name': 'manu', 'age': 22, 'salary': 10000, 'job': 'hacker'}\n"
     ]
    }
   ],
   "source": [
    "def create_person_info(name, age, job=None, salary=300):\n",
    "    info = {'name': name, 'age': age, 'salary': salary}\n",
    "\n",
    "    #add job key only if its provided as parameter\n",
    "    if job:\n",
    "        info.update(dict(job=job))\n",
    "\n",
    "    return info\n",
    "person1 = create_person_info('Anu', 23)\n",
    "person2 = create_person_info('manu', 22, 'hacker', 10000)\n",
    "print(person1)\n",
    "print(person2)"
   ]
  },
  {
   "cell_type": "markdown",
   "id": "62c1fe49",
   "metadata": {},
   "source": [
    "dont use mutable object as default arguments!"
   ]
  },
  {
   "cell_type": "code",
   "execution_count": 8,
   "id": "084d75be",
   "metadata": {},
   "outputs": [
    {
     "name": "stdout",
     "output_type": "stream",
     "text": [
      "[100]\n",
      "[100, 105]\n",
      "[100, 105]\n",
      "[]\n",
      "[100, 105]\n"
     ]
    }
   ],
   "source": [
    "def append_if_multiple_of_five(number, magical_list=[]):\n",
    "    if number % 5 == 0:\n",
    "        magical_list.append(number)\n",
    "    return magical_list\n",
    "print(append_if_multiple_of_five(100))\n",
    "print(append_if_multiple_of_five(105))\n",
    "print(append_if_multiple_of_five(123))\n",
    "print(append_if_multiple_of_five(123, []))\n",
    "print(append_if_multiple_of_five(123))"
   ]
  },
  {
   "cell_type": "code",
   "execution_count": 10,
   "id": "b9b8d497",
   "metadata": {},
   "outputs": [
    {
     "name": "stdout",
     "output_type": "stream",
     "text": [
      "[100]\n",
      "[105]\n",
      "[]\n",
      "[]\n",
      "[]\n"
     ]
    }
   ],
   "source": [
    "def append_if_multiple_of_five(number, magical_list=None):\n",
    "    if not magical_list:\n",
    "        magical_list = []\n",
    "    if number % 5 == 0:\n",
    "        magical_list.append(number)\n",
    "    return magical_list\n",
    "\n",
    "print(append_if_multiple_of_five(100))\n",
    "print(append_if_multiple_of_five(105))\n",
    "print(append_if_multiple_of_five(123))\n",
    "print(append_if_multiple_of_five(123, []))\n",
    "print(append_if_multiple_of_five(123))"
   ]
  },
  {
   "cell_type": "markdown",
   "id": "05547a82",
   "metadata": {},
   "source": [
    "## docstrings"
   ]
  },
  {
   "cell_type": "markdown",
   "id": "bc20d2c9",
   "metadata": {},
   "source": [
    "Strings for documenting your functions, methods, module and variables."
   ]
  },
  {
   "cell_type": "code",
   "execution_count": 11,
   "id": "a2e339ea",
   "metadata": {},
   "outputs": [
    {
     "name": "stdout",
     "output_type": "stream",
     "text": [
      "Help on function print_sum in module __main__:\n",
      "\n",
      "print_sum(val1, val2)\n",
      "    Function which prints the sum of given arguments.\n",
      "\n",
      "None\n"
     ]
    }
   ],
   "source": [
    "def print_sum(val1, val2):\n",
    "    \"\"\"Function which prints the sum of given arguments.\"\"\"\n",
    "    print('sum: {}'.format(val1 + val2))\n",
    "print(help(print_sum))"
   ]
  },
  {
   "cell_type": "code",
   "execution_count": 12,
   "id": "dd9486d4",
   "metadata": {},
   "outputs": [
    {
     "name": "stdout",
     "output_type": "stream",
     "text": [
      "Help on function calculate_sum in module __main__:\n",
      "\n",
      "calculate_sum(val1, val2)\n",
      "    This is a longer docstring defining also the args and the return value.\n",
      "    \n",
      "    Args:\n",
      "        val1: The first parameter.\n",
      "        val2: The second parameter.\n",
      "    \n",
      "    \n",
      "    Returns:\n",
      "        The sum of val1 and val2.\n",
      "\n",
      "None\n"
     ]
    }
   ],
   "source": [
    "def calculate_sum(val1, val2):\n",
    "    \"\"\"This is a longer docstring defining also the args and the return value.\n",
    "    \n",
    "    Args:\n",
    "        val1: The first parameter.\n",
    "        val2: The second parameter.\n",
    "\n",
    "\n",
    "    Returns:\n",
    "        The sum of val1 and val2.\n",
    "    \"\"\"\n",
    "    return val1 + val2\n",
    "print(help(calculate_sum))\n",
    "\n"
   ]
  },
  {
   "cell_type": "markdown",
   "id": "06c8e594",
   "metadata": {},
   "source": [
    "## pass statement"
   ]
  },
  {
   "cell_type": "markdown",
   "id": "b80acc7d",
   "metadata": {},
   "source": [
    "pass is a statement which does nothing when it's executed. It can be used. e.g a as placeholder to make the code syntatically correct while sketching the functions and/or classes of your application. For example, the following is valid Python."
   ]
  },
  {
   "cell_type": "code",
   "execution_count": 13,
   "id": "39bdbc52",
   "metadata": {},
   "outputs": [],
   "source": [
    "def my_function(some_argument):\n",
    "    pass\n",
    "def my_other_function():\n",
    "    pass"
   ]
  },
  {
   "cell_type": "code",
   "execution_count": null,
   "id": "1c05117e",
   "metadata": {},
   "outputs": [],
   "source": []
  }
 ],
 "metadata": {
  "kernelspec": {
   "display_name": "python",
   "language": "python",
   "name": "python3"
  },
  "language_info": {
   "codemirror_mode": {
    "name": "ipython",
    "version": 3
   },
   "file_extension": ".py",
   "mimetype": "text/x-python",
   "name": "python",
   "nbconvert_exporter": "python",
   "pygments_lexer": "ipython3",
   "version": "3.10.11"
  }
 },
 "nbformat": 4,
 "nbformat_minor": 5
}
