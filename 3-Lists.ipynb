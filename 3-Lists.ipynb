{
 "cells": [
  {
   "cell_type": "markdown",
   "id": "a85e2da5",
   "metadata": {},
   "source": [
    "# Lists"
   ]
  },
  {
   "cell_type": "code",
   "execution_count": 3,
   "id": "c883c5c2",
   "metadata": {},
   "outputs": [
    {
     "name": "stdout",
     "output_type": "stream",
     "text": [
      "empty list: [], type: <class 'list'>\n"
     ]
    }
   ],
   "source": [
    "my_empty_list = []\n",
    "print('empty list: {}, type: {}'.format(my_empty_list, type(my_empty_list)))"
   ]
  },
  {
   "cell_type": "code",
   "execution_count": 4,
   "id": "4c6bf249",
   "metadata": {},
   "outputs": [
    {
     "name": "stdout",
     "output_type": "stream",
     "text": [
      "lengths: 4 and 6\n"
     ]
    }
   ],
   "source": [
    "list_of_ints = [1, 2, 6, 7]\n",
    "list_of_misc = [0.2, 5, 'Python', 'is', 'still fun', '!']\n",
    "print('lengths: {} and {}'.format(len(list_of_ints), len(list_of_misc)))"
   ]
  },
  {
   "cell_type": "markdown",
   "id": "34b04698",
   "metadata": {},
   "source": [
    "### Accessing values]"
   ]
  },
  {
   "cell_type": "code",
   "execution_count": 5,
   "id": "d583ff6b",
   "metadata": {},
   "outputs": [
    {
     "name": "stdout",
     "output_type": "stream",
     "text": [
      "Python\n",
      "cool\n"
     ]
    }
   ],
   "source": [
    "my_list = ['Python', 'is', 'still', 'cool']\n",
    "print(my_list[0])\n",
    "print(my_list[3])"
   ]
  },
  {
   "cell_type": "code",
   "execution_count": 6,
   "id": "01f2e98d",
   "metadata": {},
   "outputs": [
    {
     "name": "stdout",
     "output_type": "stream",
     "text": [
      "first coordinates: [12.0, 13.3]\n",
      "second element of first coordinate: 13.3\n"
     ]
    }
   ],
   "source": [
    "coordinates = [[12.0, 13.3], [0.6, 18.0], [88.0, 1.1]]\n",
    "print('first coordinates: {}'.format(coordinates[0]))\n",
    "print('second element of first coordinate: {}'.format(coordinates[0][1]))"
   ]
  },
  {
   "cell_type": "markdown",
   "id": "c6161490",
   "metadata": {},
   "source": [
    "### Updating values"
   ]
  },
  {
   "cell_type": "code",
   "execution_count": 7,
   "id": "b2ff53e0",
   "metadata": {},
   "outputs": [
    {
     "name": "stdout",
     "output_type": "stream",
     "text": [
      "[99, 1, 2, 3, 4, 5]\n"
     ]
    }
   ],
   "source": [
    "my_list = [0, 1, 2, 3, 4, 5]\n",
    "my_list[0] = 99\n",
    "print(my_list)"
   ]
  },
  {
   "cell_type": "code",
   "execution_count": 8,
   "id": "12a1de55",
   "metadata": {},
   "outputs": [
    {
     "name": "stdout",
     "output_type": "stream",
     "text": [
      "[1, 2, 3, 4, 5]\n"
     ]
    }
   ],
   "source": [
    "# remove first value\n",
    "del my_list[0]\n",
    "print(my_list)"
   ]
  },
  {
   "cell_type": "markdown",
   "id": "2ac7e1fb",
   "metadata": {},
   "source": [
    "### Checking if certain value is present in list"
   ]
  },
  {
   "cell_type": "code",
   "execution_count": 9,
   "id": "3ae81e06",
   "metadata": {},
   "outputs": [
    {
     "name": "stdout",
     "output_type": "stream",
     "text": [
      "Python is here!\n"
     ]
    }
   ],
   "source": [
    "languages = ['Java', 'C++', 'Go', 'Python', 'JavaScript']\n",
    "if 'Python' in languages:\n",
    "    print(\"Python is here!\")"
   ]
  },
  {
   "cell_type": "code",
   "execution_count": 10,
   "id": "00c44ecf",
   "metadata": {},
   "outputs": [
    {
     "name": "stdout",
     "output_type": "stream",
     "text": [
      "number 6 is not present\n"
     ]
    }
   ],
   "source": [
    "if 6 not in [1, 2, 3, 7]:\n",
    "    print('number 6 is not present')"
   ]
  },
  {
   "cell_type": "markdown",
   "id": "5331a3af",
   "metadata": {},
   "source": [
    "## List are mutable"
   ]
  },
  {
   "cell_type": "code",
   "execution_count": null,
   "id": "7d9ffd2c",
   "metadata": {},
   "outputs": [
    {
     "name": "stdout",
     "output_type": "stream",
     "text": [
      "original: [99, 2, 3], modified: [99, 2, 3]\n"
     ]
    }
   ],
   "source": [
    "original = [1, 2, 3]\n",
    "modified = original\n",
    "modified[0] = 99\n",
    "print('original: {}, modified: {}'.format(original, modified))"
   ]
  },
  {
   "cell_type": "code",
   "execution_count": null,
   "id": "2f6a2ff8",
   "metadata": {},
   "outputs": [
    {
     "name": "stdout",
     "output_type": "stream",
     "text": [
      "original: [1, 2, 3], modified: [99, 2, 3]\n"
     ]
    }
   ],
   "source": [
    "original = [1, 2, 3]\n",
    "modified = list(original) ##altternatively use copy method(modified = original.copy())\n",
    "modified[0] = 99\n",
    "print('original: {}, modified: {}'.format(original, modified))"
   ]
  },
  {
   "cell_type": "markdown",
   "id": "4e47d689",
   "metadata": {},
   "source": [
    "### list.append()\n"
   ]
  },
  {
   "cell_type": "code",
   "execution_count": 17,
   "id": "b3b14365",
   "metadata": {},
   "outputs": [
    {
     "name": "stdout",
     "output_type": "stream",
     "text": [
      "[1, 'one']\n"
     ]
    }
   ],
   "source": [
    "my_list = [1]\n",
    "my_list.append('one')\n",
    "print(my_list)"
   ]
  },
  {
   "cell_type": "markdown",
   "id": "96e8a663",
   "metadata": {},
   "source": [
    "### list.remove()"
   ]
  },
  {
   "cell_type": "code",
   "execution_count": 18,
   "id": "c0045f59",
   "metadata": {},
   "outputs": [
    {
     "name": "stdout",
     "output_type": "stream",
     "text": [
      "['Python', 'is', 'fun']\n"
     ]
    }
   ],
   "source": [
    "my_list = ['Python', 'is', 'sometimes', 'fun']\n",
    "my_list.remove('sometimes')\n",
    "print(my_list)"
   ]
  },
  {
   "cell_type": "code",
   "execution_count": 19,
   "id": "374e753a",
   "metadata": {},
   "outputs": [
    {
     "name": "stdout",
     "output_type": "stream",
     "text": [
      "Java is not part of this story\n"
     ]
    }
   ],
   "source": [
    "if 'Java' in my_list:\n",
    "    my_list.remove('Java')\n",
    "else:\n",
    "    print(\"Java is not part of this story\")\n",
    "\n"
   ]
  },
  {
   "cell_type": "markdown",
   "id": "b2fb0501",
   "metadata": {},
   "source": [
    "### list.sort()"
   ]
  },
  {
   "cell_type": "code",
   "execution_count": 22,
   "id": "d0ec96a6",
   "metadata": {},
   "outputs": [
    {
     "name": "stdout",
     "output_type": "stream",
     "text": [
      "Sorted numbers: [1, 5, 6, 8, 10]\n",
      "Numbers reversed: [10, 8, 6, 5, 1]\n"
     ]
    }
   ],
   "source": [
    "numbers = [8, 1, 6, 5, 10]\n",
    "numbers.sort()\n",
    "print(\"Sorted numbers: {}\".format(numbers))\n",
    "\n",
    "\n",
    "numbers.sort(reverse=True)\n",
    "print(\"Numbers reversed: {}\".format(numbers))"
   ]
  },
  {
   "cell_type": "code",
   "execution_count": 24,
   "id": "8fe334ed",
   "metadata": {},
   "outputs": [
    {
     "name": "stdout",
     "output_type": "stream",
     "text": [
      "Words: ['a', 'is', 'list', 'of', 'this', 'words']\n"
     ]
    }
   ],
   "source": [
    "words = ['this', 'is', 'a', 'list', 'of', 'words']\n",
    "words.sort()\n",
    "print(\"Words: {}\".format(words))"
   ]
  },
  {
   "cell_type": "markdown",
   "id": "2fddca21",
   "metadata": {},
   "source": [
    "### sorted(list)\n",
    "\n",
    "###### While list.sort() sorts the list in-place, sorted(list) returnd a new list and leaves the original untouched."
   ]
  },
  {
   "cell_type": "code",
   "execution_count": 28,
   "id": "19d3dea0",
   "metadata": {},
   "outputs": [
    {
     "name": "stdout",
     "output_type": "stream",
     "text": [
      "numbers: [8, 1, 6, 5, 10], sorted: [1, 5, 6, 8, 10]\n"
     ]
    }
   ],
   "source": [
    "numbers = [8, 1, 6, 5, 10]\n",
    "sorted_numbers = sorted(numbers)\n",
    "print('numbers: {}, sorted: {}'.format(numbers, sorted_numbers))"
   ]
  },
  {
   "cell_type": "markdown",
   "id": "2804a7c1",
   "metadata": {},
   "source": [
    "### list.extend()"
   ]
  },
  {
   "cell_type": "code",
   "execution_count": 29,
   "id": "07f31e2c",
   "metadata": {},
   "outputs": [
    {
     "name": "stdout",
     "output_type": "stream",
     "text": [
      "first: ['beef', 'ham', 'tomatos', 1, 3], second: ['tomatos', 1, 3]\n"
     ]
    }
   ],
   "source": [
    "first_list = ['beef', 'ham']\n",
    "second_list = ['tomatos', 1, 3]\n",
    "first_list.extend(second_list)\n",
    "print('first: {}, second: {}'.format(first_list, second_list))"
   ]
  },
  {
   "cell_type": "code",
   "execution_count": 31,
   "id": "ed247fb9",
   "metadata": {},
   "outputs": [
    {
     "name": "stdout",
     "output_type": "stream",
     "text": [
      "first: [1, 2, 3, 4, 5]\n",
      "Summed: [1, 2, 3, 4, 5, 4, 5]\n"
     ]
    }
   ],
   "source": [
    "first = [1, 2, 3]\n",
    "second = [4, 5]\n",
    "first += second\n",
    "print('first: {}'.format(first))\n",
    "\n",
    "#if you need a new list\n",
    "summed = first + second\n",
    "print('Summed: {}'.format(summed))"
   ]
  },
  {
   "cell_type": "markdown",
   "id": "d5b2d27e",
   "metadata": {},
   "source": [
    "### list.reverse()"
   ]
  },
  {
   "cell_type": "code",
   "execution_count": 32,
   "id": "ea8af4aa",
   "metadata": {},
   "outputs": [
    {
     "name": "stdout",
     "output_type": "stream",
     "text": [
      "['one', 'b', 'a']\n"
     ]
    }
   ],
   "source": [
    "my_list = ['a', 'b', 'one']\n",
    "my_list.reverse()\n",
    "print(my_list)"
   ]
  },
  {
   "cell_type": "code",
   "execution_count": null,
   "id": "b0c7dfdc",
   "metadata": {},
   "outputs": [],
   "source": []
  }
 ],
 "metadata": {
  "kernelspec": {
   "display_name": "python",
   "language": "python",
   "name": "python3"
  },
  "language_info": {
   "codemirror_mode": {
    "name": "ipython",
    "version": 3
   },
   "file_extension": ".py",
   "mimetype": "text/x-python",
   "name": "python",
   "nbconvert_exporter": "python",
   "pygments_lexer": "ipython3",
   "version": "3.10.11"
  }
 },
 "nbformat": 4,
 "nbformat_minor": 5
}
