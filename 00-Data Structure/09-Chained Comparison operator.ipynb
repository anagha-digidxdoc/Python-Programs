{
 "cells": [
  {
   "cell_type": "markdown",
   "id": "a1ebc465",
   "metadata": {},
   "source": [
    "## Chained comparison Operators"
   ]
  },
  {
   "cell_type": "markdown",
   "id": "85433230",
   "metadata": {},
   "source": [
    "An interesting feature of Python is the ability to chain multiple comparisons to perform a more complex test. You can use these chained comparisons as shorthand for larger Boolean Expressions."
   ]
  },
  {
   "cell_type": "markdown",
   "id": "d6cfe6ca",
   "metadata": {},
   "source": [
    "In this lecture we will learn how to chain comparison operators and we will also introduce two other important statements in Python: and and or."
   ]
  },
  {
   "cell_type": "code",
   "execution_count": 1,
   "id": "261defd5",
   "metadata": {},
   "outputs": [
    {
     "data": {
      "text/plain": [
       "True"
      ]
     },
     "execution_count": 1,
     "metadata": {},
     "output_type": "execute_result"
    }
   ],
   "source": [
    "1 < 2 < 3"
   ]
  },
  {
   "cell_type": "markdown",
   "id": "8f84a6ae",
   "metadata": {},
   "source": [
    "The above statement checks if 1 was less than 2 and if 2 was less than 3. We could have written this using an and statement in Python:"
   ]
  },
  {
   "cell_type": "code",
   "execution_count": 2,
   "id": "8f1caf82",
   "metadata": {},
   "outputs": [
    {
     "data": {
      "text/plain": [
       "True"
      ]
     },
     "execution_count": 2,
     "metadata": {},
     "output_type": "execute_result"
    }
   ],
   "source": [
    "1 < 2 and 2 < 3"
   ]
  },
  {
   "cell_type": "markdown",
   "id": "eb048527",
   "metadata": {},
   "source": [
    "The and is used to make sure two checks have to be true in order for the total check to be true. Let's see another example:"
   ]
  },
  {
   "cell_type": "code",
   "execution_count": 3,
   "id": "334f734e",
   "metadata": {},
   "outputs": [
    {
     "data": {
      "text/plain": [
       "True"
      ]
     },
     "execution_count": 3,
     "metadata": {},
     "output_type": "execute_result"
    }
   ],
   "source": [
    "1 < 3 > 2"
   ]
  },
  {
   "cell_type": "markdown",
   "id": "957bea0b",
   "metadata": {},
   "source": [
    "The above checks if 3 is larger than both of the other numbers, so you could use and to rewrite it as:"
   ]
  },
  {
   "cell_type": "code",
   "execution_count": 4,
   "id": "f957a0a6",
   "metadata": {},
   "outputs": [
    {
     "data": {
      "text/plain": [
       "True"
      ]
     },
     "execution_count": 4,
     "metadata": {},
     "output_type": "execute_result"
    }
   ],
   "source": [
    "1 < 3 and 3 > 2"
   ]
  },
  {
   "cell_type": "markdown",
   "id": "9a77ad3c",
   "metadata": {},
   "source": [
    "It's important to note that Python is checking both instances of the comparisons. We can also use or to write comparisons in Python. For example:"
   ]
  },
  {
   "cell_type": "code",
   "execution_count": 8,
   "id": "c731135f",
   "metadata": {},
   "outputs": [
    {
     "data": {
      "text/plain": [
       "True"
      ]
     },
     "execution_count": 8,
     "metadata": {},
     "output_type": "execute_result"
    }
   ],
   "source": [
    "1 == 1 or 2 > 3"
   ]
  },
  {
   "cell_type": "markdown",
   "id": "3c5d734f",
   "metadata": {},
   "source": [
    "Note how it was true; this is because with the or operator, we only need one or the other to be true. "
   ]
  },
  {
   "cell_type": "code",
   "execution_count": 7,
   "id": "46e4e021",
   "metadata": {},
   "outputs": [
    {
     "data": {
      "text/plain": [
       "True"
      ]
     },
     "execution_count": 7,
     "metadata": {},
     "output_type": "execute_result"
    }
   ],
   "source": [
    "1 == 1 or 100 == 1                 "
   ]
  }
 ],
 "metadata": {
  "kernelspec": {
   "display_name": "python",
   "language": "python",
   "name": "python3"
  },
  "language_info": {
   "codemirror_mode": {
    "name": "ipython",
    "version": 3
   },
   "file_extension": ".py",
   "mimetype": "text/x-python",
   "name": "python",
   "nbconvert_exporter": "python",
   "pygments_lexer": "ipython3",
   "version": "3.8.0"
  }
 },
 "nbformat": 4,
 "nbformat_minor": 5
}
