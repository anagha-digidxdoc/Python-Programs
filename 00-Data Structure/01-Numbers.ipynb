{
 "cells": [
  {
   "cell_type": "markdown",
   "id": "58a27fd7",
   "metadata": {},
   "source": [
    "### Numbers and More in Pythion"
   ]
  },
  {
   "cell_type": "markdown",
   "id": "2f1fe6dc",
   "metadata": {},
   "source": [
    "1.) Types of Numbers in Python\n",
    "\n",
    "2.) Basic Arithmetic\n",
    "\n",
    "3.) Differences between classic division and floor division\n",
    "\n",
    "4.) Object Assignment in Python"
   ]
  },
  {
   "cell_type": "markdown",
   "id": "b57e64de",
   "metadata": {},
   "source": [
    "##### Type of numbers"
   ]
  },
  {
   "cell_type": "markdown",
   "id": "e806ed56",
   "metadata": {},
   "source": [
    "Python has various \"types\" of numbers (numeric literals.). We'll mainly focus on integers and floating point numbers.\n",
    "Integers are just whole numbers, postive or negative. For example : 2 and -2 are eg of integers.\n",
    "Floating point numbers in python are notable because they have decimal point in them, or use an expotential (e) to define the number. For example 2.0 and - 2.1 are example of floating point numbers. 4E2(4 times power of 2) is an also example of floating point numbers in python. "
   ]
  },
  {
   "cell_type": "markdown",
   "id": "a77a5576",
   "metadata": {},
   "source": [
    "#### Basic Arithmetic"
   ]
  },
  {
   "cell_type": "code",
   "execution_count": 1,
   "id": "683ea0a9",
   "metadata": {},
   "outputs": [
    {
     "data": {
      "text/plain": [
       "7"
      ]
     },
     "execution_count": 1,
     "metadata": {},
     "output_type": "execute_result"
    }
   ],
   "source": [
    "# Addition\n",
    "2 + 5"
   ]
  },
  {
   "cell_type": "code",
   "execution_count": 2,
   "id": "d15eff60",
   "metadata": {},
   "outputs": [
    {
     "data": {
      "text/plain": [
       "1"
      ]
     },
     "execution_count": 2,
     "metadata": {},
     "output_type": "execute_result"
    }
   ],
   "source": [
    "# Subtraction\n",
    "2 - 1"
   ]
  },
  {
   "cell_type": "code",
   "execution_count": 3,
   "id": "cae7df16",
   "metadata": {},
   "outputs": [
    {
     "data": {
      "text/plain": [
       "6"
      ]
     },
     "execution_count": 3,
     "metadata": {},
     "output_type": "execute_result"
    }
   ],
   "source": [
    "# Multiplication\n",
    "2 * 3"
   ]
  },
  {
   "cell_type": "code",
   "execution_count": 4,
   "id": "c2149331",
   "metadata": {},
   "outputs": [
    {
     "data": {
      "text/plain": [
       "5.0"
      ]
     },
     "execution_count": 4,
     "metadata": {},
     "output_type": "execute_result"
    }
   ],
   "source": [
    "# Division\n",
    "10 / 2"
   ]
  },
  {
   "cell_type": "code",
   "execution_count": 5,
   "id": "8d7589b2",
   "metadata": {},
   "outputs": [
    {
     "data": {
      "text/plain": [
       "1"
      ]
     },
     "execution_count": 5,
     "metadata": {},
     "output_type": "execute_result"
    }
   ],
   "source": [
    "# Floor Division\n",
    "7 // 4"
   ]
  },
  {
   "cell_type": "markdown",
   "id": "8f8191a4",
   "metadata": {},
   "source": [
    "The reason we get this result is because we are using \"floor\" division. The // operator (two forward slashes) truncates the decimal without rounding, and returns an integer result."
   ]
  },
  {
   "cell_type": "code",
   "execution_count": 6,
   "id": "831670ab",
   "metadata": {},
   "outputs": [
    {
     "data": {
      "text/plain": [
       "3"
      ]
     },
     "execution_count": 6,
     "metadata": {},
     "output_type": "execute_result"
    }
   ],
   "source": [
    "# Modulo\n",
    "7 % 4"
   ]
  },
  {
   "cell_type": "markdown",
   "id": "49e5d7d1",
   "metadata": {},
   "source": [
    "#### Arithmetic Continued"
   ]
  },
  {
   "cell_type": "code",
   "execution_count": 7,
   "id": "b6ff62af",
   "metadata": {},
   "outputs": [
    {
     "data": {
      "text/plain": [
       "8"
      ]
     },
     "execution_count": 7,
     "metadata": {},
     "output_type": "execute_result"
    }
   ],
   "source": [
    "# Powers\n",
    "2 ** 3"
   ]
  },
  {
   "cell_type": "code",
   "execution_count": 8,
   "id": "87c548d2",
   "metadata": {},
   "outputs": [
    {
     "data": {
      "text/plain": [
       "2.0"
      ]
     },
     "execution_count": 8,
     "metadata": {},
     "output_type": "execute_result"
    }
   ],
   "source": [
    "# Can also do roots this way\n",
    "4**0.5"
   ]
  },
  {
   "cell_type": "code",
   "execution_count": 9,
   "id": "7edde8e1",
   "metadata": {},
   "outputs": [
    {
     "data": {
      "text/plain": [
       "205"
      ]
     },
     "execution_count": 9,
     "metadata": {},
     "output_type": "execute_result"
    }
   ],
   "source": [
    "# order of operation followed in python\n",
    "2 + 10 * 20 + 3"
   ]
  },
  {
   "cell_type": "code",
   "execution_count": 10,
   "id": "24b31168",
   "metadata": {},
   "outputs": [
    {
     "data": {
      "text/plain": [
       "156"
      ]
     },
     "execution_count": 10,
     "metadata": {},
     "output_type": "execute_result"
    }
   ],
   "source": [
    "# Can use parenthese to specify order\n",
    "(2+10) * (10+3)"
   ]
  },
  {
   "cell_type": "markdown",
   "id": "26531f44",
   "metadata": {},
   "source": [
    "### Variable Assignments "
   ]
  },
  {
   "cell_type": "code",
   "execution_count": 11,
   "id": "a376cf60",
   "metadata": {},
   "outputs": [],
   "source": [
    "# Lets create object called 'a' and assign it the number 3\n",
    "\n",
    "a = 3"
   ]
  },
  {
   "cell_type": "markdown",
   "id": "eaddd100",
   "metadata": {},
   "source": [
    "Now if I call a in my Python script, Python will treat it as the number 5."
   ]
  },
  {
   "cell_type": "code",
   "execution_count": 12,
   "id": "d016ad2f",
   "metadata": {},
   "outputs": [
    {
     "data": {
      "text/plain": [
       "6"
      ]
     },
     "execution_count": 12,
     "metadata": {},
     "output_type": "execute_result"
    }
   ],
   "source": [
    "# Adding the objects\n",
    "a + a"
   ]
  },
  {
   "cell_type": "code",
   "execution_count": 13,
   "id": "4dbd5159",
   "metadata": {},
   "outputs": [],
   "source": [
    "# Reassignment\n",
    "a = 10"
   ]
  },
  {
   "cell_type": "code",
   "execution_count": 15,
   "id": "8d1db4e1",
   "metadata": {},
   "outputs": [
    {
     "data": {
      "text/plain": [
       "10"
      ]
     },
     "execution_count": 15,
     "metadata": {},
     "output_type": "execute_result"
    }
   ],
   "source": [
    "#Check\n",
    "a"
   ]
  },
  {
   "cell_type": "markdown",
   "id": "94a67a9e",
   "metadata": {},
   "source": [
    "Python allows you to write over assigned variable names. We can also use the variables themselves when doing the reassignment."
   ]
  },
  {
   "cell_type": "code",
   "execution_count": 16,
   "id": "8c802caf",
   "metadata": {},
   "outputs": [],
   "source": [
    "# Use a to redefine a\n",
    "a = a+a"
   ]
  },
  {
   "cell_type": "code",
   "execution_count": 18,
   "id": "97263de8",
   "metadata": {},
   "outputs": [
    {
     "data": {
      "text/plain": [
       "20"
      ]
     },
     "execution_count": 18,
     "metadata": {},
     "output_type": "execute_result"
    }
   ],
   "source": [
    "a"
   ]
  },
  {
   "cell_type": "markdown",
   "id": "e92ef4db",
   "metadata": {},
   "source": [
    "Rules:\n",
    "1. Name cannot start with a number.\n",
    "2. There can be no sapce in the name, use _ instead\n",
    "3. Can't use any of these symbols :'\",<>/?|\\()!@#$%^&*~-+\n",
    "4. It's considered best practice (PEP8) that name are lowercase.\n",
    "5. Avoid using the characters 'l' (lowercase letter el), 'O' (uppercase letter oh), or 'I' (Uppercase letter eye) as single character variable names.\n",
    "6. Avoid using words that have special meaning in python like \"list\" and \"str\""
   ]
  },
  {
   "cell_type": "markdown",
   "id": "e8e4bb16",
   "metadata": {},
   "source": [
    "Using variable names can be a very useful way to keep track of different variables in Python."
   ]
  },
  {
   "cell_type": "code",
   "execution_count": 20,
   "id": "319a87b2",
   "metadata": {},
   "outputs": [
    {
     "data": {
      "text/plain": [
       "1000.0"
      ]
     },
     "execution_count": 20,
     "metadata": {},
     "output_type": "execute_result"
    }
   ],
   "source": [
    "# Use object names to keep better track of what's going on in your model\n",
    "my_income = 10000\n",
    "tax_rate = 0.1\n",
    "my_taxes = my_income * tax_rate\n",
    "my_taxes"
   ]
  }
 ],
 "metadata": {
  "kernelspec": {
   "display_name": "python",
   "language": "python",
   "name": "python3"
  },
  "language_info": {
   "codemirror_mode": {
    "name": "ipython",
    "version": 3
   },
   "file_extension": ".py",
   "mimetype": "text/x-python",
   "name": "python",
   "nbconvert_exporter": "python",
   "pygments_lexer": "ipython3",
   "version": "3.8.0"
  }
 },
 "nbformat": 4,
 "nbformat_minor": 5
}
