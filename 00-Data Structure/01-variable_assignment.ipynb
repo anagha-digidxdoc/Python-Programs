{
 "cells": [
  {
   "cell_type": "markdown",
   "id": "0344ac3e",
   "metadata": {},
   "source": [
    "## Variable Assignment\n",
    "\n",
    "#### Rules for variable names\n",
    "1. names can not start with a number\n",
    "\n",
    "2. names can not contain spaces, use _ intead\n",
    "\n",
    "3. names can not contain any of these symbols:\n",
    "\n",
    ":'\",<>/?|\\!@#%^&*~-+\n",
    "3. it's considered best practice (PEP8) that names are lowercase with underscores\n",
    "\n",
    "4. avoid using Python built-in keywords like list and str\n",
    "\n",
    "5. avoid using the single characters l (lowercase letter el), O (uppercase letter oh) and I (uppercase letter eye) as they can be confused with 1 and 0"
   ]
  },
  {
   "cell_type": "markdown",
   "id": "607ba792",
   "metadata": {},
   "source": [
    "### Dynamic Typing"
   ]
  },
  {
   "cell_type": "markdown",
   "id": "c15fae29",
   "metadata": {},
   "source": [
    "Python uses dynamic typing, meaning you can reassign variables to different data types. This make python very flexible in assigning data types it differs from other languages that are statically typed."
   ]
  },
  {
   "cell_type": "code",
   "execution_count": 2,
   "id": "49ebe372",
   "metadata": {},
   "outputs": [
    {
     "data": {
      "text/plain": [
       "2"
      ]
     },
     "execution_count": 2,
     "metadata": {},
     "output_type": "execute_result"
    }
   ],
   "source": [
    "my_dogs = 2\n",
    "my_dogs"
   ]
  },
  {
   "cell_type": "code",
   "execution_count": 3,
   "id": "9bdcfa66",
   "metadata": {},
   "outputs": [
    {
     "data": {
      "text/plain": [
       "['Tommy', 'Bikki']"
      ]
     },
     "execution_count": 3,
     "metadata": {},
     "output_type": "execute_result"
    }
   ],
   "source": [
    "my_dogs = ['Tommy', 'Bikki']\n",
    "my_dogs"
   ]
  },
  {
   "cell_type": "markdown",
   "id": "e2f6fa04",
   "metadata": {},
   "source": [
    "### Pros and cons of dynamic typing\n",
    "#### Pros:\n",
    "        Very easy to work with\n",
    "        Faster development time\n",
    "#### Cons:\n",
    "        may result in unexpected bugs!\n",
    "        you need to be aware of type()\n"
   ]
  },
  {
   "cell_type": "markdown",
   "id": "30b7cb8d",
   "metadata": {},
   "source": [
    "### Assigning Variables\n",
    "\n",
    "Variable assignment follows name = object, where a single equals sign = is an assignment operator"
   ]
  },
  {
   "cell_type": "code",
   "execution_count": 11,
   "id": "75db3fd2",
   "metadata": {},
   "outputs": [
    {
     "data": {
      "text/plain": [
       "5"
      ]
     },
     "execution_count": 11,
     "metadata": {},
     "output_type": "execute_result"
    }
   ],
   "source": [
    "a = 5\n",
    "a"
   ]
  },
  {
   "cell_type": "code",
   "execution_count": 12,
   "id": "1937e322",
   "metadata": {},
   "outputs": [
    {
     "data": {
      "text/plain": [
       "10"
      ]
     },
     "execution_count": 12,
     "metadata": {},
     "output_type": "execute_result"
    }
   ],
   "source": [
    "a = 10\n",
    "a"
   ]
  },
  {
   "cell_type": "code",
   "execution_count": 14,
   "id": "c0063930",
   "metadata": {},
   "outputs": [
    {
     "data": {
      "text/plain": [
       "20"
      ]
     },
     "execution_count": 14,
     "metadata": {},
     "output_type": "execute_result"
    }
   ],
   "source": [
    "a + a\n"
   ]
  },
  {
   "cell_type": "markdown",
   "id": "130c18a1",
   "metadata": {},
   "source": [
    "#### Reassigning Variables\n",
    "\n",
    "Python lets you reassign variables with a reference to the same object."
   ]
  },
  {
   "cell_type": "code",
   "execution_count": 16,
   "id": "2af42fb8",
   "metadata": {},
   "outputs": [
    {
     "data": {
      "text/plain": [
       "30"
      ]
     },
     "execution_count": 16,
     "metadata": {},
     "output_type": "execute_result"
    }
   ],
   "source": [
    "a = a + 10\n",
    "a"
   ]
  },
  {
   "cell_type": "markdown",
   "id": "84f51f11",
   "metadata": {},
   "source": [
    "There's actually a shortcut for this. Python lets you add, subtract, multiply and divide numbers with reassignment using +=, -=, *=, and /=."
   ]
  },
  {
   "cell_type": "code",
   "execution_count": 19,
   "id": "9c86c684",
   "metadata": {},
   "outputs": [
    {
     "data": {
      "text/plain": [
       "50"
      ]
     },
     "execution_count": 19,
     "metadata": {},
     "output_type": "execute_result"
    }
   ],
   "source": [
    "a += 10\n",
    "a"
   ]
  },
  {
   "cell_type": "code",
   "execution_count": 21,
   "id": "141dd51a",
   "metadata": {},
   "outputs": [
    {
     "data": {
      "text/plain": [
       "5000"
      ]
     },
     "execution_count": 21,
     "metadata": {},
     "output_type": "execute_result"
    }
   ],
   "source": [
    "a *= 10\n",
    "a"
   ]
  },
  {
   "cell_type": "markdown",
   "id": "5e268f5c",
   "metadata": {},
   "source": [
    "#### Determining variable type with type()\n",
    "You can check what type of object is assigned to a variable using Python's built-in type() function. Common data types include:\n",
    "\n",
    "int (for integer)\n",
    "\n",
    "float\n",
    "\n",
    "str (for string)\n",
    "\n",
    "list\n",
    "\n",
    "tuple\n",
    "\n",
    "dict (for dictionary)\n",
    "\n",
    "set\n",
    "\n",
    "bool (for Boolean True/False)"
   ]
  },
  {
   "cell_type": "code",
   "execution_count": 22,
   "id": "6e3793d6",
   "metadata": {},
   "outputs": [
    {
     "data": {
      "text/plain": [
       "int"
      ]
     },
     "execution_count": 22,
     "metadata": {},
     "output_type": "execute_result"
    }
   ],
   "source": [
    "type(a)"
   ]
  },
  {
   "cell_type": "code",
   "execution_count": 23,
   "id": "005880b3",
   "metadata": {},
   "outputs": [
    {
     "data": {
      "text/plain": [
       "tuple"
      ]
     },
     "execution_count": 23,
     "metadata": {},
     "output_type": "execute_result"
    }
   ],
   "source": [
    "a = (1, 2)\n",
    "type(a)"
   ]
  }
 ],
 "metadata": {
  "kernelspec": {
   "display_name": "python",
   "language": "python",
   "name": "python3"
  },
  "language_info": {
   "codemirror_mode": {
    "name": "ipython",
    "version": 3
   },
   "file_extension": ".py",
   "mimetype": "text/x-python",
   "name": "python",
   "nbconvert_exporter": "python",
   "pygments_lexer": "ipython3",
   "version": "3.8.0"
  }
 },
 "nbformat": 4,
 "nbformat_minor": 5
}
