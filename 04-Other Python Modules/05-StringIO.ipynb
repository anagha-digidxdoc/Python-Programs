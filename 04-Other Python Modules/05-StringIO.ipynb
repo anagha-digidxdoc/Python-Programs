{
 "cells": [
  {
   "cell_type": "markdown",
   "id": "dc3e981f",
   "metadata": {},
   "source": [
    "## SrtingIO Objects and the io Module\n",
    "\n",
    "We opened files that exist outside of python, and streamed their contents into an in-memory file object. You can also create in-memory file-like objects within your program that Python treats the same way. Text data is stored in a StringIO object, while binary data would be stored in a BytesIO object. This object can then be used as input or output to most functions that would expect a standard file object."
   ]
  },
  {
   "cell_type": "code",
   "execution_count": 1,
   "id": "8447152e",
   "metadata": {},
   "outputs": [],
   "source": [
    "import io"
   ]
  },
  {
   "cell_type": "code",
   "execution_count": 2,
   "id": "43ffb5fe",
   "metadata": {},
   "outputs": [],
   "source": [
    "# Arbitrary string\n",
    "message = 'This is just a normal string.'\n",
    "\n",
    "# Use StringIO method to set as file object\n",
    "f = io.StringIO(message)"
   ]
  },
  {
   "cell_type": "code",
   "execution_count": 3,
   "id": "2f9a158c",
   "metadata": {},
   "outputs": [
    {
     "data": {
      "text/plain": [
       "'This is just a normal string.'"
      ]
     },
     "execution_count": 3,
     "metadata": {},
     "output_type": "execute_result"
    }
   ],
   "source": [
    "# Now we have an object f that we will be able to treat just like a file. For example:\n",
    "f.read()"
   ]
  },
  {
   "cell_type": "code",
   "execution_count": 4,
   "id": "67736d5d",
   "metadata": {},
   "outputs": [
    {
     "data": {
      "text/plain": [
       "21"
      ]
     },
     "execution_count": 4,
     "metadata": {},
     "output_type": "execute_result"
    }
   ],
   "source": [
    "f.write(' Hello, Good Morning!')"
   ]
  },
  {
   "cell_type": "code",
   "execution_count": 5,
   "id": "359406c5",
   "metadata": {},
   "outputs": [
    {
     "data": {
      "text/plain": [
       "0"
      ]
     },
     "execution_count": 5,
     "metadata": {},
     "output_type": "execute_result"
    }
   ],
   "source": [
    "# Reset cursor just like you would a file\n",
    "f.seek(0)"
   ]
  },
  {
   "cell_type": "code",
   "execution_count": 6,
   "id": "c50f4260",
   "metadata": {},
   "outputs": [
    {
     "data": {
      "text/plain": [
       "'This is just a normal string. Hello, Good Morning!'"
      ]
     },
     "execution_count": 6,
     "metadata": {},
     "output_type": "execute_result"
    }
   ],
   "source": [
    "# Read again\n",
    "f.read()\n"
   ]
  },
  {
   "cell_type": "code",
   "execution_count": 7,
   "id": "f786a9e4",
   "metadata": {},
   "outputs": [],
   "source": [
    "# Close the object when contents are no longer needed\n",
    "f.close()"
   ]
  },
  {
   "cell_type": "code",
   "execution_count": null,
   "id": "6663945e",
   "metadata": {},
   "outputs": [],
   "source": []
  }
 ],
 "metadata": {
  "kernelspec": {
   "display_name": "python",
   "language": "python",
   "name": "python3"
  },
  "language_info": {
   "codemirror_mode": {
    "name": "ipython",
    "version": 3
   },
   "file_extension": ".py",
   "mimetype": "text/x-python",
   "name": "python",
   "nbconvert_exporter": "python",
   "pygments_lexer": "ipython3",
   "version": "3.8.0"
  }
 },
 "nbformat": 4,
 "nbformat_minor": 5
}
