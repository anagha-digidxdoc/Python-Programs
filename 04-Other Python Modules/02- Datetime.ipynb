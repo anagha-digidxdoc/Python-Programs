{
 "cells": [
  {
   "cell_type": "markdown",
   "id": "90b62510",
   "metadata": {},
   "source": [
    "## datetime\n",
    "Python has the datetime module to help deal with timestamps in your code. Time values are represented with the time class. Times have attributes for hour, minute, second, and microsecond. They can also include time zone information. The arguments to initialize a time instance are optional, but the default of 0 is unlikely to be what you want."
   ]
  },
  {
   "cell_type": "markdown",
   "id": "3eb8f1d1",
   "metadata": {},
   "source": [
    "#### time\n",
    "Let's take a look at how we can extract time information from the datetime module. We can create a timestamp by specifying datetime.time(hour,minute,second,microsecond)"
   ]
  },
  {
   "cell_type": "code",
   "execution_count": 7,
   "id": "f5c618f3",
   "metadata": {},
   "outputs": [
    {
     "name": "stdout",
     "output_type": "stream",
     "text": [
      "04:20:01\n",
      "hour:  4\n",
      "minute:  20\n",
      "second:  1\n",
      "microsecond:  0\n",
      "tzinfo:  None\n"
     ]
    }
   ],
   "source": [
    "import datetime\n",
    "\n",
    "t = datetime.time(4, 20, 1)\n",
    "\n",
    "# Let's show the different components\n",
    "\n",
    "print(t)\n",
    "print('hour: ',t.hour)\n",
    "print('minute: ', t.minute)\n",
    "print(\"second: \", t.second)\n",
    "print(\"microsecond: \", t.microsecond)\n",
    "print(\"tzinfo: \", t.tzinfo)"
   ]
  },
  {
   "cell_type": "markdown",
   "id": "20445281",
   "metadata": {},
   "source": [
    "Note: A time instance only holds values of time, and not a date associated with the time.\n",
    "\n",
    "We can also check the min and max values a time of day can have in the module:\n",
    "\n"
   ]
  },
  {
   "cell_type": "code",
   "execution_count": 11,
   "id": "e6e0c6d1",
   "metadata": {},
   "outputs": [
    {
     "name": "stdout",
     "output_type": "stream",
     "text": [
      "Earliest:  00:00:00\n",
      "Latest:  23:59:59.999999\n",
      "Resolution:  0:00:00.000001\n"
     ]
    }
   ],
   "source": [
    "print(\"Earliest: \", datetime.time.min)\n",
    "print(\"Latest: \", datetime.time.max)\n",
    "print(\"Resolution: \", datetime.time.resolution)"
   ]
  },
  {
   "cell_type": "markdown",
   "id": "24247493",
   "metadata": {},
   "source": [
    "The min and max class attributes reflect the valid range of times in a single day."
   ]
  },
  {
   "cell_type": "markdown",
   "id": "ddce7bb7",
   "metadata": {},
   "source": [
    "###  Dates\n",
    "\n",
    "datetime (as you might suspect) also allows us to work with date timestamps. Calendar date values are represented with the date class. Instances have attributes for year, month, and day. It is easy to create a date representing today’s date using the today() class method."
   ]
  },
  {
   "cell_type": "code",
   "execution_count": 19,
   "id": "dc9063f5",
   "metadata": {},
   "outputs": [
    {
     "name": "stdout",
     "output_type": "stream",
     "text": [
      "2025-05-19\n",
      "ctime:  Mon May 19 00:00:00 2025\n",
      "tuple:  time.struct_time(tm_year=2025, tm_mon=5, tm_mday=19, tm_hour=0, tm_min=0, tm_sec=0, tm_wday=0, tm_yday=139, tm_isdst=-1)\n",
      "ordinal:  739390\n",
      "year:  2025\n",
      "month:  5\n",
      "Day:  19\n"
     ]
    }
   ],
   "source": [
    "today = datetime.date.today()\n",
    "print(today)\n",
    "print('ctime: ', today.ctime())\n",
    "print(\"tuple: \", today.timetuple())\n",
    "print(\"ordinal: \", today.toordinal())\n",
    "print(\"year: \", today.year)\n",
    "print(\"month: \", today.month)\n",
    "print('Day: ', today.day)"
   ]
  },
  {
   "cell_type": "markdown",
   "id": "ced1eb50",
   "metadata": {},
   "source": [
    "As with time, the range of date values supported can be determined using the min and max attributes."
   ]
  },
  {
   "cell_type": "code",
   "execution_count": 22,
   "id": "fefe2d40",
   "metadata": {},
   "outputs": [
    {
     "name": "stdout",
     "output_type": "stream",
     "text": [
      "Earliest :  0001-01-01\n",
      "Latest :  9999-12-31\n",
      "Resolution :  1 day, 0:00:00\n"
     ]
    }
   ],
   "source": [
    "print(\"Earliest : \", datetime.date.min)\n",
    "print(\"Latest : \", datetime.date.max)\n",
    "print(\"Resolution : \", datetime.date.resolution)"
   ]
  },
  {
   "cell_type": "markdown",
   "id": "c27d3f8e",
   "metadata": {},
   "source": [
    "Another way to create new date instances uses the replace() method of an existing date. For example, you can change the year, leaving the day and month alone."
   ]
  },
  {
   "cell_type": "code",
   "execution_count": 26,
   "id": "1a40e2b1",
   "metadata": {},
   "outputs": [
    {
     "name": "stdout",
     "output_type": "stream",
     "text": [
      "d1:  2025-05-19\n",
      "d2 : 2001-05-19\n"
     ]
    }
   ],
   "source": [
    "d1 = datetime.date(2025, 5, 19)\n",
    "print('d1: ', d1)\n",
    "\n",
    "d2 = d1.replace(year=2001)\n",
    "print('d2 :', d2)"
   ]
  },
  {
   "cell_type": "markdown",
   "id": "13a9b7ff",
   "metadata": {},
   "source": [
    "## Arithmetic\n",
    "We can perform arithmetic on date objects to check for time differences. For example:"
   ]
  },
  {
   "cell_type": "code",
   "execution_count": 27,
   "id": "413ffb38",
   "metadata": {},
   "outputs": [
    {
     "data": {
      "text/plain": [
       "datetime.date(2025, 5, 19)"
      ]
     },
     "execution_count": 27,
     "metadata": {},
     "output_type": "execute_result"
    }
   ],
   "source": [
    "d1"
   ]
  },
  {
   "cell_type": "code",
   "execution_count": 28,
   "id": "55bbf54f",
   "metadata": {},
   "outputs": [
    {
     "data": {
      "text/plain": [
       "datetime.date(2001, 5, 19)"
      ]
     },
     "execution_count": 28,
     "metadata": {},
     "output_type": "execute_result"
    }
   ],
   "source": [
    "d2"
   ]
  },
  {
   "cell_type": "code",
   "execution_count": 29,
   "id": "aace886a",
   "metadata": {},
   "outputs": [
    {
     "data": {
      "text/plain": [
       "datetime.timedelta(days=8766)"
      ]
     },
     "execution_count": 29,
     "metadata": {},
     "output_type": "execute_result"
    }
   ],
   "source": [
    "d1-d2"
   ]
  },
  {
   "cell_type": "markdown",
   "id": "ea8058cb",
   "metadata": {},
   "source": [
    "This gives us the difference in days between the two dates. You can use the timedelta method to specify various units of times (days, minutes, hours, etc.)"
   ]
  },
  {
   "cell_type": "code",
   "execution_count": null,
   "id": "ec6f9f25",
   "metadata": {},
   "outputs": [],
   "source": []
  }
 ],
 "metadata": {
  "kernelspec": {
   "display_name": "python",
   "language": "python",
   "name": "python3"
  },
  "language_info": {
   "codemirror_mode": {
    "name": "ipython",
    "version": 3
   },
   "file_extension": ".py",
   "mimetype": "text/x-python",
   "name": "python",
   "nbconvert_exporter": "python",
   "pygments_lexer": "ipython3",
   "version": "3.8.0"
  }
 },
 "nbformat": 4,
 "nbformat_minor": 5
}
