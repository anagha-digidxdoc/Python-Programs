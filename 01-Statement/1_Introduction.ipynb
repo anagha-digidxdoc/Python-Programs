{
 "cells": [
  {
   "cell_type": "markdown",
   "id": "3e5066c1",
   "metadata": {},
   "source": [
    "### Introduction to Python Statements"
   ]
  },
  {
   "cell_type": "markdown",
   "id": "08936962",
   "metadata": {},
   "source": [
    "Differences between Python and other languages such as C++.\n",
    "\n",
    "There are two reasons we take this approach for learning the context of Python Statements:"
   ]
  },
  {
   "cell_type": "markdown",
   "id": "66b7ed79",
   "metadata": {},
   "source": [
    "1.) If you are coming from a different language this will rapidly accelerate your understanding of Python.\n",
    "\n",
    "2.) Learning about statements will allow you to be able to read other languages more easily in the future."
   ]
  },
  {
   "cell_type": "markdown",
   "id": "9ddd6808",
   "metadata": {},
   "source": [
    "#### Python vs Other Languages"
   ]
  },
  {
   "cell_type": "markdown",
   "id": "e2fe6be5",
   "metadata": {},
   "source": [
    "Let's create a simple statement that says: \"If a is greater than b, assign 2 to a and 4 to b\"\n",
    "\n",
    "Take a look at these two if statements "
   ]
  },
  {
   "cell_type": "markdown",
   "id": "d0734972",
   "metadata": {},
   "source": [
    "#### Version 1 (Other Languages)"
   ]
  },
  {
   "cell_type": "markdown",
   "id": "01b1c733",
   "metadata": {},
   "source": [
    "if (a>b){\n",
    "\n",
    "    a = 2;\n",
    "    \n",
    "    b = 4;\n",
    "}"
   ]
  },
  {
   "cell_type": "markdown",
   "id": "818b04ce",
   "metadata": {},
   "source": [
    "Version 2 (Python)\n",
    "\n"
   ]
  },
  {
   "cell_type": "markdown",
   "id": "9240a03d",
   "metadata": {},
   "source": [
    "if a>b:\n",
    "\n",
    "        a = 2\n",
    "    \n",
    "        b = 4"
   ]
  },
  {
   "cell_type": "markdown",
   "id": "f3ee1172",
   "metadata": {},
   "source": [
    "You'll notice that Python is less cluttered and much more readable than the first version. How does Python manage this?"
   ]
  },
  {
   "cell_type": "markdown",
   "id": "55e0cd9e",
   "metadata": {},
   "source": [
    "Python gets rid of () and {} by incorporating two main factors: a colon and whitespace. The statement is ended with a colon, and whitespace is used (indentation) to describe what takes place in case of the statement."
   ]
  },
  {
   "cell_type": "markdown",
   "id": "dbbb8f32",
   "metadata": {},
   "source": [
    "Another major difference is the lack of semicolons in Python. Semicolons are used to denote statement endings in many other languages, but in Python, the end of a line is the same as the end of a statement."
   ]
  },
  {
   "cell_type": "markdown",
   "id": "f874e3bc",
   "metadata": {},
   "source": [
    "#### Indentation\n",
    "Here is some pseudo-code to indicate the use of whitespace and indentation in Python:"
   ]
  },
  {
   "cell_type": "markdown",
   "id": "99794598",
   "metadata": {},
   "source": [
    "Other Languages\n",
    "\n",
    "if (x)\n",
    "\n",
    "    if(y)\n",
    "\n",
    "            code-statement;\n",
    "else\n",
    "\n",
    "        another-code-statement;"
   ]
  },
  {
   "cell_type": "markdown",
   "id": "29286b0c",
   "metadata": {},
   "source": [
    "Version 2 (Python)\n",
    "\n",
    "Python\n",
    "\n",
    "if x:\n",
    "\n",
    "            if y:\n",
    "\n",
    "                code-statement\n",
    "else:\n",
    "\n",
    "            another-code-statement"
   ]
  },
  {
   "cell_type": "markdown",
   "id": "c8cebae1",
   "metadata": {},
   "source": [
    "Note how Python is so heavily driven by code indentation and whitespace. This means that code readability is a core part of the design of the Python language."
   ]
  },
  {
   "cell_type": "markdown",
   "id": "5a29dfbf",
   "metadata": {},
   "source": []
  }
 ],
 "metadata": {
  "kernelspec": {
   "display_name": "python",
   "language": "python",
   "name": "python3"
  },
  "language_info": {
   "codemirror_mode": {
    "name": "ipython",
    "version": 3
   },
   "file_extension": ".py",
   "mimetype": "text/x-python",
   "name": "python",
   "nbconvert_exporter": "python",
   "pygments_lexer": "ipython3",
   "version": "3.8.0"
  }
 },
 "nbformat": 4,
 "nbformat_minor": 5
}
