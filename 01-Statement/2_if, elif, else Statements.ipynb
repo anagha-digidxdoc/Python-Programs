{
 "cells": [
  {
   "cell_type": "markdown",
   "id": "3d1c9eb5",
   "metadata": {},
   "source": [
    "## if, elif, else Statements"
   ]
  },
  {
   "cell_type": "markdown",
   "id": "6220dfd4",
   "metadata": {},
   "source": [
    "if Statements in Python allows us to tell the computer to perform alternative actions based on a certain set of results.\n",
    "\n",
    "Verbally, we can imagine we are telling the computer:\n",
    "\n",
    "\"Hey if this case happens, perform some action\"\n",
    "\n",
    "We can then expand the idea further with elif and else statements, which allow us to tell the computer:\n",
    "\n",
    "\"Hey if this case happens, perform some action. Else, if another case happens, perform some other action. Else, if none of the above cases happened, perform this action.\""
   ]
  },
  {
   "cell_type": "markdown",
   "id": "bb583703",
   "metadata": {},
   "source": [
    "Let's go ahead and look at the syntax format for if statements to get a better idea of this:\n",
    "\n",
    "if case1:\n",
    "\n",
    "    perform action1\n",
    "\n",
    "elif case2:\n",
    "\n",
    "    perform action2\n",
    "\n",
    "else: \n",
    "\n",
    "    perform action3"
   ]
  },
  {
   "cell_type": "markdown",
   "id": "fb03b94a",
   "metadata": {},
   "source": [
    "First Example\n",
    "Let's see a quick example of this:"
   ]
  },
  {
   "cell_type": "markdown",
   "id": "7a17a735",
   "metadata": {},
   "source": [
    "sd"
   ]
  },
  {
   "cell_type": "code",
   "execution_count": 2,
   "id": "8dc00509",
   "metadata": {},
   "outputs": [
    {
     "name": "stdout",
     "output_type": "stream",
     "text": [
      "It was true!\n"
     ]
    }
   ],
   "source": [
    "if True:\n",
    "    print('It was true!')\n"
   ]
  },
  {
   "cell_type": "code",
   "execution_count": 3,
   "id": "e2c04665",
   "metadata": {},
   "outputs": [
    {
     "name": "stdout",
     "output_type": "stream",
     "text": [
      "I will printed any case where x is not true\n"
     ]
    }
   ],
   "source": [
    "x = False\n",
    "\n",
    "if x:\n",
    "    print(\"X was True\")\n",
    "else:\n",
    "    print(\"I will printed any case where x is not true\")"
   ]
  },
  {
   "cell_type": "markdown",
   "id": "08bbe7d0",
   "metadata": {},
   "source": [
    "##### Multiple Branches\n",
    "Let's get a fuller picture of how far if, elif, and else can take us!\n",
    "\n",
    "We write this out in a nested structure. Take note of how the if, elif, and else line up in the code. This can help you see what if is related to what elif or else statements."
   ]
  },
  {
   "cell_type": "code",
   "execution_count": 4,
   "id": "64bec090",
   "metadata": {},
   "outputs": [
    {
     "name": "stdout",
     "output_type": "stream",
     "text": [
      "Welcome to the Bank\n"
     ]
    }
   ],
   "source": [
    "loc = 'Bank'\n",
    "if loc == 'Auto shop':\n",
    "    print(\"Welcom to the Auto shop\")\n",
    "elif loc == 'Bank':\n",
    "    print(\"Welcome to the Bank\")\n",
    "else:\n",
    "    print(\"Wher are you?\")"
   ]
  },
  {
   "cell_type": "markdown",
   "id": "defb51b9",
   "metadata": {},
   "source": [
    "Note how the nested if statements are each checked until a True boolean causes the nested code below it to run. You should also note that you can put in as many elif statements as you want before you close off with an else."
   ]
  },
  {
   "cell_type": "code",
   "execution_count": 5,
   "id": "de40ae95",
   "metadata": {},
   "outputs": [
    {
     "name": "stdout",
     "output_type": "stream",
     "text": [
      "Welcome sammy\n"
     ]
    }
   ],
   "source": [
    "person = 'sammy'\n",
    "if person == 'sammy':\n",
    "    print(\"Welcome sammy\")\n",
    "else:\n",
    "    print(\"Welcome, What is your name?\")"
   ]
  },
  {
   "cell_type": "code",
   "execution_count": 6,
   "id": "a207d3d6",
   "metadata": {},
   "outputs": [
    {
     "name": "stdout",
     "output_type": "stream",
     "text": [
      "Welcome Anagha\n"
     ]
    }
   ],
   "source": [
    "person = \"Anagha\"\n",
    "if person == 'Sammy':\n",
    "    print(\"Welcome Sammy\")\n",
    "elif person == 'Anagha':\n",
    "    print(\"Welcome Anagha\")\n",
    "else:\n",
    "    print(\"Welcome, What is your name?\")"
   ]
  },
  {
   "cell_type": "markdown",
   "id": "5239bc11",
   "metadata": {},
   "source": [
    "### Indentation\n",
    "It is important to keep a good understanding of how indentation works in Python to maintain the structure and order of your code. "
   ]
  }
 ],
 "metadata": {
  "kernelspec": {
   "display_name": "python",
   "language": "python",
   "name": "python3"
  },
  "language_info": {
   "codemirror_mode": {
    "name": "ipython",
    "version": 3
   },
   "file_extension": ".py",
   "mimetype": "text/x-python",
   "name": "python",
   "nbconvert_exporter": "python",
   "pygments_lexer": "ipython3",
   "version": "3.8.0"
  }
 },
 "nbformat": 4,
 "nbformat_minor": 5
}
