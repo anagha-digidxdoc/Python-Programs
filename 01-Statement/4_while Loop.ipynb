{
 "cells": [
  {
   "cell_type": "markdown",
   "id": "944cc33b",
   "metadata": {},
   "source": [
    "### while Loops"
   ]
  },
  {
   "cell_type": "markdown",
   "id": "8cef8d6e",
   "metadata": {},
   "source": [
    "The while statement in Python is one of most general ways to perform iteration. A while statement will repeatedly execute a single statement or group of statements as long as the condition is true. The reason it is called a 'loop' is because the code statements are looped through over and over again until the condition is no longer met."
   ]
  },
  {
   "cell_type": "markdown",
   "id": "6c0f70e1",
   "metadata": {},
   "source": [
    "The general format of a while loop is:\n",
    "\n",
    "while test:\n",
    "\n",
    "        code statements\n",
    "\n",
    "else:\n",
    "\n",
    "        final code statements\n",
    "    \n",
    "Let’s look at a few simple while loops in action."
   ]
  },
  {
   "cell_type": "code",
   "execution_count": 1,
   "id": "e568d8d2",
   "metadata": {},
   "outputs": [
    {
     "name": "stdout",
     "output_type": "stream",
     "text": [
      "x is currently:  0\n",
      "x is still less than 10, adding 1 to x\n",
      "x is currently:  1\n",
      "x is still less than 10, adding 1 to x\n",
      "x is currently:  2\n",
      "x is still less than 10, adding 1 to x\n",
      "x is currently:  3\n",
      "x is still less than 10, adding 1 to x\n",
      "x is currently:  4\n",
      "x is still less than 10, adding 1 to x\n",
      "x is currently:  5\n",
      "x is still less than 10, adding 1 to x\n",
      "x is currently:  6\n",
      "x is still less than 10, adding 1 to x\n",
      "x is currently:  7\n",
      "x is still less than 10, adding 1 to x\n",
      "x is currently:  8\n",
      "x is still less than 10, adding 1 to x\n",
      "x is currently:  9\n",
      "x is still less than 10, adding 1 to x\n"
     ]
    }
   ],
   "source": [
    "x = 0\n",
    "\n",
    "while x < 10:\n",
    "    print(\"x is currently: \", x)\n",
    "    print(\"x is still less than 10, adding 1 to x\")\n",
    "    x += 1"
   ]
  },
  {
   "cell_type": "markdown",
   "id": "81c5bbf6",
   "metadata": {},
   "source": [
    "Notice how many times the print statements occurred and how the while loop kept going until the True condition was met, which occurred once x==10. It's important to note that once this occurred the code stopped. Let's see how we could add an else statement:"
   ]
  },
  {
   "cell_type": "code",
   "execution_count": 2,
   "id": "d6e0205d",
   "metadata": {},
   "outputs": [
    {
     "name": "stdout",
     "output_type": "stream",
     "text": [
      "x is currently:  0\n",
      "x is still less than 10, adding 1 to x\n",
      "x is currently:  1\n",
      "x is still less than 10, adding 1 to x\n",
      "x is currently:  2\n",
      "x is still less than 10, adding 1 to x\n",
      "x is currently:  3\n",
      "x is still less than 10, adding 1 to x\n",
      "x is currently:  4\n",
      "x is still less than 10, adding 1 to x\n",
      "x is currently:  5\n",
      "x is still less than 10, adding 1 to x\n",
      "x is currently:  6\n",
      "x is still less than 10, adding 1 to x\n",
      "x is currently:  7\n",
      "x is still less than 10, adding 1 to x\n",
      "x is currently:  8\n",
      "x is still less than 10, adding 1 to x\n",
      "x is currently:  9\n",
      "x is still less than 10, adding 1 to x\n",
      "All Done!\n"
     ]
    }
   ],
   "source": [
    "x = 0\n",
    "while x < 10:\n",
    "    print(\"x is currently: \", x)\n",
    "    print(\"x is still less than 10, adding 1 to x\")\n",
    "    x +=1\n",
    "else:\n",
    "    print(\"All Done!\")"
   ]
  },
  {
   "cell_type": "markdown",
   "id": "f6018948",
   "metadata": {},
   "source": [
    "### break, continue, pass "
   ]
  },
  {
   "cell_type": "markdown",
   "id": "cbd65515",
   "metadata": {},
   "source": [
    "We can use break, continue, and pass statements in our loops to add additional functionality for various cases. The three statements are defined by:"
   ]
  },
  {
   "cell_type": "markdown",
   "id": "b3e054a9",
   "metadata": {},
   "source": [
    "break: Breaks out of the current closest enclosing loop.\n",
    "\n",
    "continue: Goes to the top of the closest enclosing loop.\n",
    "\n",
    "pass: Does nothing at all."
   ]
  },
  {
   "cell_type": "markdown",
   "id": "4a9b3415",
   "metadata": {},
   "source": [
    "Thinking about break and continue statements, the general format of the while loop looks like this:\n",
    "\n",
    "while test: \n",
    "\n",
    "         code statement\n",
    "\n",
    "        if test: \n",
    "\n",
    "            break\n",
    "\n",
    "          if test: \n",
    "    \n",
    "             continue \n",
    "else:"
   ]
  },
  {
   "cell_type": "markdown",
   "id": "090f5fc4",
   "metadata": {},
   "source": [
    "break and continue statements can appear anywhere inside the loop’s body, but we will usually put them further nested in conjunction with an if statement to perform an action based on some condition."
   ]
  },
  {
   "cell_type": "code",
   "execution_count": 3,
   "id": "8a03eb2e",
   "metadata": {},
   "outputs": [
    {
     "name": "stdout",
     "output_type": "stream",
     "text": [
      "x is currently:  0\n",
      "x is still less than 10, adding 1 to x\n",
      "continuing...\n",
      "x is currently:  1\n",
      "x is still less than 10, adding 1 to x\n",
      "continuing...\n",
      "x is currently:  2\n",
      "x is still less than 10, adding 1 to x\n",
      "x==3\n",
      "x is currently:  3\n",
      "x is still less than 10, adding 1 to x\n",
      "continuing...\n",
      "x is currently:  4\n",
      "x is still less than 10, adding 1 to x\n",
      "continuing...\n",
      "x is currently:  5\n",
      "x is still less than 10, adding 1 to x\n",
      "continuing...\n",
      "x is currently:  6\n",
      "x is still less than 10, adding 1 to x\n",
      "continuing...\n",
      "x is currently:  7\n",
      "x is still less than 10, adding 1 to x\n",
      "continuing...\n",
      "x is currently:  8\n",
      "x is still less than 10, adding 1 to x\n",
      "continuing...\n",
      "x is currently:  9\n",
      "x is still less than 10, adding 1 to x\n",
      "continuing...\n"
     ]
    }
   ],
   "source": [
    "x = 0 \n",
    "while x < 10:\n",
    "    print('x is currently: ', x)\n",
    "    print(\"x is still less than 10, adding 1 to x\")\n",
    "    x += 1\n",
    "    if x == 3:\n",
    "        print('x==3')\n",
    "    else:\n",
    "        print('continuing...')\n",
    "        continue"
   ]
  },
  {
   "cell_type": "markdown",
   "id": "ee813503",
   "metadata": {},
   "source": [
    "Note how we have a printed statement when x==3, and a continue being printed out as we continue through the outer while loop. Let's put in a break once x ==3 and see if the result makes sense:"
   ]
  },
  {
   "cell_type": "code",
   "execution_count": 4,
   "id": "d5b36471",
   "metadata": {},
   "outputs": [
    {
     "name": "stdout",
     "output_type": "stream",
     "text": [
      "x is currently:  0\n",
      "x is still less than 10, adding 1 to x\n",
      "Continuing....\n",
      "x is currently:  1\n",
      "x is still less than 10, adding 1 to x\n",
      "Continuing....\n",
      "x is currently:  2\n",
      "x is still less than 10, adding 1 to x\n",
      "Breaking because x==3\n"
     ]
    }
   ],
   "source": [
    "x = 0\n",
    "\n",
    "while x < 10:\n",
    "    print(\"x is currently: \", x)\n",
    "    print(\"x is still less than 10, adding 1 to x\")\n",
    "    x += 1\n",
    "    if x == 3:\n",
    "        print(\"Breaking because x==3\")\n",
    "        break\n",
    "    else:\n",
    "        print('Continuing....')\n",
    "        continue"
   ]
  },
  {
   "cell_type": "markdown",
   "id": "f183a4d0",
   "metadata": {},
   "source": [
    "Note how the other else statement wasn't reached and continuing was never printed!\n",
    "\n",
    "After these brief but simple examples, you should feel comfortable using while statements in your code.\n",
    "\n",
    "A word of caution however! It is possible to create an infinitely running loop with while statements. For example:"
   ]
  },
  {
   "cell_type": "code",
   "execution_count": null,
   "id": "cbf147a1",
   "metadata": {},
   "outputs": [],
   "source": [
    "# DO NOT RUN THIS CODE!!!! \n",
    "while True:\n",
    "    print(\"I'm stuck in an infinite loop!\")"
   ]
  }
 ],
 "metadata": {
  "kernelspec": {
   "display_name": "python",
   "language": "python",
   "name": "python3"
  },
  "language_info": {
   "codemirror_mode": {
    "name": "ipython",
    "version": 3
   },
   "file_extension": ".py",
   "mimetype": "text/x-python",
   "name": "python",
   "nbconvert_exporter": "python",
   "pygments_lexer": "ipython3",
   "version": "3.8.0"
  }
 },
 "nbformat": 4,
 "nbformat_minor": 5
}
