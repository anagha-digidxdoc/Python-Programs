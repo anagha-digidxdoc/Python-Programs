{
 "cells": [
  {
   "cell_type": "markdown",
   "id": "f0adae0a",
   "metadata": {},
   "source": [
    "## Functions and Methods"
   ]
  },
  {
   "cell_type": "markdown",
   "id": "f6f77b43",
   "metadata": {},
   "source": [
    "Write a function that computes the volume of a sphere given its radius.\n",
    "\n",
    "The volume of a sphere is given as\n"
   ]
  },
  {
   "cell_type": "code",
   "execution_count": 1,
   "id": "66b36fa6",
   "metadata": {},
   "outputs": [],
   "source": [
    "def vol(rad):\n",
    "    return (4/3)*(3.14)*(rad**3)"
   ]
  },
  {
   "cell_type": "code",
   "execution_count": 2,
   "id": "a4b21ef7",
   "metadata": {},
   "outputs": [
    {
     "data": {
      "text/plain": [
       "33.49333333333333"
      ]
     },
     "execution_count": 2,
     "metadata": {},
     "output_type": "execute_result"
    }
   ],
   "source": [
    "vol(2)"
   ]
  },
  {
   "cell_type": "markdown",
   "id": "929929eb",
   "metadata": {},
   "source": [
    "\n",
    "Write a function that checks whether a number is in a given range (inclusive of high and low)"
   ]
  },
  {
   "cell_type": "code",
   "execution_count": 4,
   "id": "1e0491c8",
   "metadata": {},
   "outputs": [],
   "source": [
    "def ran_check(num, low, high):\n",
    "    #Check if num is between low and high (including low and high)\n",
    "    if num in range(low, high+1):\n",
    "        print('{} is in the range between {} and {}'.format(num, low, high))\n",
    "    else:\n",
    "        print(\"The number is outside the range\")"
   ]
  },
  {
   "cell_type": "code",
   "execution_count": 5,
   "id": "b80ef5f0",
   "metadata": {},
   "outputs": [
    {
     "name": "stdout",
     "output_type": "stream",
     "text": [
      "5 is in the range between 2 and 7\n"
     ]
    }
   ],
   "source": [
    "# Check\n",
    "ran_check(5,2,7)"
   ]
  },
  {
   "cell_type": "markdown",
   "id": "f9181135",
   "metadata": {},
   "source": [
    "If you only wanted to return a boolean:"
   ]
  },
  {
   "cell_type": "code",
   "execution_count": 7,
   "id": "22998271",
   "metadata": {},
   "outputs": [
    {
     "data": {
      "text/plain": [
       "True"
      ]
     },
     "execution_count": 7,
     "metadata": {},
     "output_type": "execute_result"
    }
   ],
   "source": [
    "def ran_bool(num, low, high):\n",
    "    return num in range(low, high+1)\n",
    "ran_bool(3, 1, 10)"
   ]
  },
  {
   "cell_type": "markdown",
   "id": "b5362987",
   "metadata": {},
   "source": [
    "Write a Python function that accepts a string and calculates the number of upper case letters and lower case letters.\n",
    "\n",
    "Sample String : 'Hello Mr. Rogers, how are you this fine Tuesday?'\n",
    "\n",
    "Expected Output : \n",
    "\n",
    "No. of Upper case characters : 4\n",
    "\n",
    "No. of Lower case Characters : 33"
   ]
  },
  {
   "cell_type": "code",
   "execution_count": 13,
   "id": "749c9059",
   "metadata": {},
   "outputs": [],
   "source": [
    "def up_low(s):\n",
    "    d={\"upper\":0, \"lower\":0}\n",
    "    for c in s:\n",
    "        if c.isupper():\n",
    "            d[\"upper\"]+=1\n",
    "        elif c.islower():\n",
    "            d[\"lower\"]+=1\n",
    "        else:\n",
    "            pass\n",
    "    print(\"Original String : \", s)\n",
    "    print(\"No. of Upper case characters : \", d[\"upper\"])\n",
    "    print(\"No. of Lower case Characters : \", d[\"lower\"])"
   ]
  },
  {
   "cell_type": "code",
   "execution_count": 14,
   "id": "1b63e49b",
   "metadata": {},
   "outputs": [
    {
     "name": "stdout",
     "output_type": "stream",
     "text": [
      "Original String :  Hello Mr. Rogers, how are you this fine Tuesday?\n",
      "No. of Upper case characters :  4\n",
      "No. of Lower case Characters :  33\n"
     ]
    }
   ],
   "source": [
    "s = 'Hello Mr. Rogers, how are you this fine Tuesday?'\n",
    "up_low(s)"
   ]
  },
  {
   "cell_type": "markdown",
   "id": "3de0b48c",
   "metadata": {},
   "source": [
    "\n",
    "Write a Python function that takes a list and returns a new list with unique elements of the first list.\n",
    "\n",
    "Sample List : [1,1,1,1,2,2,3,3,3,3,4,5]\n",
    "\n",
    "Unique List : [1, 2, 3, 4, 5]"
   ]
  },
  {
   "cell_type": "code",
   "execution_count": 17,
   "id": "da62a4b0",
   "metadata": {},
   "outputs": [],
   "source": [
    "def unique_list(lst):\n",
    "    # Also possible to use list(set())\n",
    "    x = []\n",
    "    for a in lst:\n",
    "        if a not in x:\n",
    "            x.append(a)\n",
    "    return x"
   ]
  },
  {
   "cell_type": "code",
   "execution_count": 18,
   "id": "6dbf5d12",
   "metadata": {},
   "outputs": [
    {
     "data": {
      "text/plain": [
       "[1, 2, 3, 4, 5]"
      ]
     },
     "execution_count": 18,
     "metadata": {},
     "output_type": "execute_result"
    }
   ],
   "source": [
    "unique_list([1,1,1,1,2,2,3,3,3,3,4,5])"
   ]
  },
  {
   "cell_type": "markdown",
   "id": "16d511a6",
   "metadata": {},
   "source": [
    "\n",
    "Write a Python function to multiply all the numbers in a list.\n",
    "\n",
    "Sample List : [1, 2, 3, -4]\n",
    "\n",
    "Expected Output : -24"
   ]
  },
  {
   "cell_type": "code",
   "execution_count": 19,
   "id": "a11d8424",
   "metadata": {},
   "outputs": [],
   "source": [
    "def multiply(numbers):\n",
    "    total = 1\n",
    "    for x in numbers:\n",
    "        total *= x\n",
    "    return total"
   ]
  },
  {
   "cell_type": "code",
   "execution_count": 21,
   "id": "87333bbf",
   "metadata": {},
   "outputs": [
    {
     "data": {
      "text/plain": [
       "-24"
      ]
     },
     "execution_count": 21,
     "metadata": {},
     "output_type": "execute_result"
    }
   ],
   "source": [
    "multiply([1, 2, 3, -4])"
   ]
  },
  {
   "cell_type": "markdown",
   "id": "c07138e9",
   "metadata": {},
   "source": [
    "Write a Python function that checks whether a passed string is palindrome or not.\n",
    "\n",
    "Note: A palindrome is word, phrase, or sequence that reads the same backward as forward, e.g., madam or nurses run."
   ]
  },
  {
   "cell_type": "code",
   "execution_count": 24,
   "id": "5636c538",
   "metadata": {},
   "outputs": [],
   "source": [
    "def palindrome(s):\n",
    "    \n",
    "    s = s.replace(' ','') # This replaces all spaces ' ' with no space ''. (Fixes issues with strings that have spaces)\n",
    "    return s == s[::-1]   # Check through slicing"
   ]
  },
  {
   "cell_type": "code",
   "execution_count": 25,
   "id": "c5c5fdca",
   "metadata": {},
   "outputs": [
    {
     "data": {
      "text/plain": [
       "True"
      ]
     },
     "execution_count": 25,
     "metadata": {},
     "output_type": "execute_result"
    }
   ],
   "source": [
    "palindrome('nurses run')"
   ]
  },
  {
   "cell_type": "code",
   "execution_count": 26,
   "id": "7c01d623",
   "metadata": {},
   "outputs": [
    {
     "data": {
      "text/plain": [
       "True"
      ]
     },
     "execution_count": 26,
     "metadata": {},
     "output_type": "execute_result"
    }
   ],
   "source": [
    "palindrome('abcba')"
   ]
  },
  {
   "cell_type": "code",
   "execution_count": 27,
   "id": "74ae6a57",
   "metadata": {},
   "outputs": [
    {
     "data": {
      "text/plain": [
       "False"
      ]
     },
     "execution_count": 27,
     "metadata": {},
     "output_type": "execute_result"
    }
   ],
   "source": [
    "palindrome('Connection')"
   ]
  },
  {
   "cell_type": "markdown",
   "id": "d55c0f83",
   "metadata": {},
   "source": [
    "Hard\n",
    "\n",
    "Write a Python function to check whether a string is pangram or not.\n",
    "\n",
    "Note : Pangrams are words or sentences containing every letter of the alphabet at least once.\n",
    "\n",
    "For example : \"The quick brown fox jumps over the lazy dog\"\n",
    "\n",
    "Hint: Look at the string module"
   ]
  },
  {
   "cell_type": "code",
   "execution_count": 29,
   "id": "58b0b649",
   "metadata": {},
   "outputs": [],
   "source": [
    "import string\n",
    "\n",
    "def ispangram(str1, alphabet=string.ascii_lowercase):  \n",
    "    alphaset = set(alphabet)  \n",
    "    return alphaset <= set(str1.lower())  "
   ]
  },
  {
   "cell_type": "code",
   "execution_count": 30,
   "id": "d020365f",
   "metadata": {},
   "outputs": [
    {
     "data": {
      "text/plain": [
       "True"
      ]
     },
     "execution_count": 30,
     "metadata": {},
     "output_type": "execute_result"
    }
   ],
   "source": [
    "ispangram(\"The quick brown fox jumps over the lazy dog\")"
   ]
  },
  {
   "cell_type": "code",
   "execution_count": 31,
   "id": "04a7d626",
   "metadata": {},
   "outputs": [
    {
     "data": {
      "text/plain": [
       "'abcdefghijklmnopqrstuvwxyz'"
      ]
     },
     "execution_count": 31,
     "metadata": {},
     "output_type": "execute_result"
    }
   ],
   "source": [
    "string.ascii_lowercase"
   ]
  },
  {
   "cell_type": "code",
   "execution_count": 32,
   "id": "cf9557a5",
   "metadata": {},
   "outputs": [
    {
     "data": {
      "text/plain": [
       "False"
      ]
     },
     "execution_count": 32,
     "metadata": {},
     "output_type": "execute_result"
    }
   ],
   "source": [
    "ispangram(\"good morning\")"
   ]
  }
 ],
 "metadata": {
  "kernelspec": {
   "display_name": "python",
   "language": "python",
   "name": "python3"
  },
  "language_info": {
   "codemirror_mode": {
    "name": "ipython",
    "version": 3
   },
   "file_extension": ".py",
   "mimetype": "text/x-python",
   "name": "python",
   "nbconvert_exporter": "python",
   "pygments_lexer": "ipython3",
   "version": "3.8.0"
  }
 },
 "nbformat": 4,
 "nbformat_minor": 5
}
