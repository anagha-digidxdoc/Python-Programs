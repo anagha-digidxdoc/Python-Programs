{
 "cells": [
  {
   "cell_type": "markdown",
   "id": "a8f8c67d",
   "metadata": {},
   "source": [
    "## Functions"
   ]
  },
  {
   "cell_type": "markdown",
   "id": "95762579",
   "metadata": {},
   "source": [
    "#### Introduction to functions\n",
    "\n",
    "Functions will be one of our main building blocks when we construct larger and larger amounts of code to solve problems.\n",
    "\n",
    "##### So what is a function?\n",
    "\n",
    "Formally, a function is a useful device that groups together a set of statements so they can be run more than once. They can also let us specify parameters that can serve as inputs to the functions.\n",
    "\n",
    "On a more fundamental level, functions allow us to not have to repeatedly write the same code again and again. If you remember back to the lessons on strings and lists, remember that we used a function len() to get the length of a string. Since checking the length of a sequence is a common task you would want to write a function that can do this repeatedly at command.\n",
    "\n",
    "Functions will be one of most basic levels of reusing code in Python, and it will also allow us to start thinking of program design\n",
    "\n"
   ]
  },
  {
   "cell_type": "markdown",
   "id": "fac2165d",
   "metadata": {},
   "source": [
    "### def Statements"
   ]
  },
  {
   "cell_type": "code",
   "execution_count": 1,
   "id": "daaba450",
   "metadata": {},
   "outputs": [],
   "source": [
    "def name_of_function(arg1, arg2):\n",
    "    '''\n",
    "    This is where the function's Document String (docstring) goes\n",
    "    '''\n",
    "\n",
    "    # Do stuff here\n",
    "    # Return desired result"
   ]
  },
  {
   "cell_type": "markdown",
   "id": "0977fd62",
   "metadata": {},
   "source": [
    "We begin with def then a space followed by the name of the function. Try to keep names relevant, for example len() is a good name for a length() function. Also be careful with names, you wouldn't want to call a function the same name as a built-in function in Python (such as len).\n",
    "\n",
    "Next come a pair of parentheses with a number of arguments separated by a comma. These arguments are the inputs for your function. You'll be able to use these inputs in your function and reference them. After this you put a colon.\n",
    "\n",
    "Now here is the important step, you must indent to begin the code inside your function correctly. Python makes use of whitespace to organize code. Lots of other programing languages do not do this, so keep that in mind.\n",
    "\n",
    "Next you'll see the docstring, this is where you write a basic description of the function. Using iPython and iPython Notebooks, you'll be able to read these docstrings by pressing Shift+Tab after a function name. Docstrings are not necessary for simple functions, but it's good practice to put them in so you or other people can easily understand the code you write."
   ]
  },
  {
   "cell_type": "markdown",
   "id": "3be9ed5a",
   "metadata": {},
   "source": [
    "Example 1: A simple print 'hello' function"
   ]
  },
  {
   "cell_type": "code",
   "execution_count": null,
   "id": "995515f5",
   "metadata": {},
   "outputs": [],
   "source": [
    "def say_hello():\n",
    "    print('hello')"
   ]
  },
  {
   "cell_type": "code",
   "execution_count": 6,
   "id": "cc50a0f7",
   "metadata": {},
   "outputs": [
    {
     "name": "stdout",
     "output_type": "stream",
     "text": [
      "Hello\n"
     ]
    }
   ],
   "source": [
    "# Call the function\n",
    "say_hello()"
   ]
  },
  {
   "cell_type": "markdown",
   "id": "b69f2e97",
   "metadata": {},
   "source": [
    "Example 2: A simple greeting function"
   ]
  },
  {
   "cell_type": "code",
   "execution_count": 8,
   "id": "724f5fcf",
   "metadata": {},
   "outputs": [
    {
     "name": "stdout",
     "output_type": "stream",
     "text": [
      "Hello Anu\n"
     ]
    }
   ],
   "source": [
    "def greeting(name):\n",
    "    print(\"Hello %s\" %(name))\n",
    "\n",
    "greeting(\"Anu\")"
   ]
  },
  {
   "cell_type": "markdown",
   "id": "d9c19266",
   "metadata": {},
   "source": [
    "### Using return"
   ]
  },
  {
   "cell_type": "markdown",
   "id": "00f9b946",
   "metadata": {},
   "source": [
    " return allows a function to return a result that can then be stored as a variable, or used in whatever manner a user wants."
   ]
  },
  {
   "cell_type": "markdown",
   "id": "c15ac41c",
   "metadata": {},
   "source": [
    "Example 3: Addition function"
   ]
  },
  {
   "cell_type": "code",
   "execution_count": 9,
   "id": "291ca5f9",
   "metadata": {},
   "outputs": [
    {
     "data": {
      "text/plain": [
       "7"
      ]
     },
     "execution_count": 9,
     "metadata": {},
     "output_type": "execute_result"
    }
   ],
   "source": [
    "def add_num(num1, num2):\n",
    "    return num1 + num2\n",
    "\n",
    "add_num(2, 5)"
   ]
  },
  {
   "cell_type": "code",
   "execution_count": 10,
   "id": "2ea882e0",
   "metadata": {},
   "outputs": [
    {
     "name": "stdout",
     "output_type": "stream",
     "text": [
      "6\n"
     ]
    }
   ],
   "source": [
    "# Can also save as variable due to return\n",
    "result = add_num(2, 4)\n",
    "print(result)"
   ]
  },
  {
   "cell_type": "code",
   "execution_count": 11,
   "id": "cb2e726e",
   "metadata": {},
   "outputs": [
    {
     "data": {
      "text/plain": [
       "'onetwo'"
      ]
     },
     "execution_count": 11,
     "metadata": {},
     "output_type": "execute_result"
    }
   ],
   "source": [
    "# What happens if we input two strings?\n",
    "add_num('one', 'two')"
   ]
  },
  {
   "cell_type": "markdown",
   "id": "8a4aaf21",
   "metadata": {},
   "source": [
    "We know a number is prime if that number is only evenly divisible by 1 and itself. Let's write our first version of the function to check all the numbers from 1 to N and perform modulo checks."
   ]
  },
  {
   "cell_type": "code",
   "execution_count": 16,
   "id": "d293a1db",
   "metadata": {},
   "outputs": [],
   "source": [
    "def is_prime(num):\n",
    "    '''\n",
    "    Naive method of checking for primes. \n",
    "    '''\n",
    "    for n in range(2,num):\n",
    "        if num % n == 0:\n",
    "            print(num,'is not prime')\n",
    "            break\n",
    "    else: # If never mod zero, then prime\n",
    "        print(num,'is prime!')\n",
    "            \n"
   ]
  },
  {
   "cell_type": "code",
   "execution_count": 17,
   "id": "ca3e4e85",
   "metadata": {},
   "outputs": [
    {
     "name": "stdout",
     "output_type": "stream",
     "text": [
      "16 is not prime\n"
     ]
    }
   ],
   "source": [
    "is_prime(16)"
   ]
  },
  {
   "cell_type": "code",
   "execution_count": 18,
   "id": "c97c30f8",
   "metadata": {},
   "outputs": [
    {
     "name": "stdout",
     "output_type": "stream",
     "text": [
      "17 is prime!\n"
     ]
    }
   ],
   "source": [
    "is_prime(17)"
   ]
  },
  {
   "cell_type": "markdown",
   "id": "eeaeab59",
   "metadata": {},
   "source": [
    "Note how the else lines up under for and not if. This is because we want the for loop to exhaust all possibilities in the range before printing our number is prime."
   ]
  },
  {
   "cell_type": "markdown",
   "id": "b33fd145",
   "metadata": {},
   "source": [
    "Also note how we break the code after the first print statement. As soon as we determine that a number is not prime we break out of the for loop."
   ]
  },
  {
   "cell_type": "markdown",
   "id": "cfcaeb28",
   "metadata": {},
   "source": [
    "We can actually improve this function by only checking to the square root of the target number, and by disregarding all even numbers after checking for 2. We'll also switch to returning a boolean value to get an example of using return statements:"
   ]
  },
  {
   "cell_type": "code",
   "execution_count": 20,
   "id": "9fe28445",
   "metadata": {},
   "outputs": [],
   "source": [
    "import math\n",
    "\n",
    "def is_prime2(num):\n",
    "    '''\n",
    "    Better method of checking for primes. \n",
    "    '''\n",
    "    if num % 2 == 0 and num > 2:\n",
    "        return False\n",
    "    for i in range(3, int(math.sqrt(num)) + 1, 2):\n",
    "        if num % i == 0:\n",
    "            return False\n",
    "    return  True"
   ]
  },
  {
   "cell_type": "code",
   "execution_count": 21,
   "id": "9e967e2e",
   "metadata": {},
   "outputs": [
    {
     "data": {
      "text/plain": [
       "False"
      ]
     },
     "execution_count": 21,
     "metadata": {},
     "output_type": "execute_result"
    }
   ],
   "source": [
    "is_prime2(18)"
   ]
  },
  {
   "cell_type": "code",
   "execution_count": 22,
   "id": "247feca5",
   "metadata": {},
   "outputs": [
    {
     "data": {
      "text/plain": [
       "True"
      ]
     },
     "execution_count": 22,
     "metadata": {},
     "output_type": "execute_result"
    }
   ],
   "source": [
    "is_prime2(17)"
   ]
  },
  {
   "cell_type": "code",
   "execution_count": null,
   "id": "ae87a5bc",
   "metadata": {},
   "outputs": [],
   "source": []
  }
 ],
 "metadata": {
  "kernelspec": {
   "display_name": "Python 3",
   "language": "python",
   "name": "python3"
  },
  "language_info": {
   "codemirror_mode": {
    "name": "ipython",
    "version": 3
   },
   "file_extension": ".py",
   "mimetype": "text/x-python",
   "name": "python",
   "nbconvert_exporter": "python",
   "pygments_lexer": "ipython3",
   "version": "3.13.3"
  }
 },
 "nbformat": 4,
 "nbformat_minor": 5
}
