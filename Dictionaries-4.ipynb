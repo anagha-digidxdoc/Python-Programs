{
 "cells": [
  {
   "cell_type": "markdown",
   "id": "15137163",
   "metadata": {},
   "source": [
    "# Dictionaries\n",
    "\n",
    "\n",
    "##### Collection of key - value pair."
   ]
  },
  {
   "cell_type": "code",
   "execution_count": 2,
   "id": "b1d3885a",
   "metadata": {},
   "outputs": [
    {
     "name": "stdout",
     "output_type": "stream",
     "text": [
      "dict: {}, type: <class 'dict'>\n"
     ]
    }
   ],
   "source": [
    "my_empty_dict = {}\n",
    "print(\"dict: {}, type: {}\".format(my_empty_dict, type(my_empty_dict)))"
   ]
  },
  {
   "cell_type": "markdown",
   "id": "51214867",
   "metadata": {},
   "source": [
    "### Initialization"
   ]
  },
  {
   "cell_type": "code",
   "execution_count": 5,
   "id": "47ae4add",
   "metadata": {},
   "outputs": [
    {
     "name": "stdout",
     "output_type": "stream",
     "text": [
      "{'value1': 1.6, 'value2': 10, 'name': 'Joseph Joy'}\n",
      "{'value1': 1.6, 'value2': 10, 'name': 'Joseph Joy'}\n",
      "equal: True\n",
      "length: 3\n"
     ]
    }
   ],
   "source": [
    "dict1 = {'value1': 1.6, 'value2': 10, 'name': 'Joseph Joy'}\n",
    "dict2 = dict(value1 = 1.6, value2 = 10, name='Joseph Joy')\n",
    "\n",
    "print(dict1)\n",
    "print(dict2)\n",
    "\n",
    "print('equal: {}'.format(dict1 == dict2))\n",
    "print('length: {}'.format(len(dict1)))"
   ]
  },
  {
   "cell_type": "markdown",
   "id": "43309f9f",
   "metadata": {},
   "source": [
    "### dict.keys(), dict.values(), dict.items()"
   ]
  },
  {
   "cell_type": "code",
   "execution_count": 8,
   "id": "53968088",
   "metadata": {},
   "outputs": [
    {
     "name": "stdout",
     "output_type": "stream",
     "text": [
      "keys: dict_keys(['value1', 'value2', 'name'])\n",
      "values: dict_values([1.6, 10, 'Joseph Joy'])\n",
      "items: dict_items([('value1', 1.6), ('value2', 10), ('name', 'Joseph Joy')])\n"
     ]
    }
   ],
   "source": [
    "print('keys: {}'.format(dict1.keys()))\n",
    "print('values: {}'.format(dict1.values()))\n",
    "print('items: {}'.format(dict1.items()))"
   ]
  },
  {
   "cell_type": "markdown",
   "id": "6b345604",
   "metadata": {},
   "source": [
    "## Accessing and setting values"
   ]
  },
  {
   "cell_type": "code",
   "execution_count": 10,
   "id": "5156a03a",
   "metadata": {},
   "outputs": [
    {
     "name": "stdout",
     "output_type": "stream",
     "text": [
      "{'key1': 'new value', 'key2': 99}\n",
      "value of key1: new value\n"
     ]
    }
   ],
   "source": [
    "my_dict = {}\n",
    "my_dict['key1'] = 'value1'\n",
    "my_dict['key2'] = 99\n",
    "my_dict['key1'] = 'new value' # overriding existing value\n",
    "print(my_dict)\n",
    "\n",
    "print('value of key1: {}'.format(my_dict['key1']))"
   ]
  },
  {
   "cell_type": "markdown",
   "id": "0899903c",
   "metadata": {},
   "source": [
    "### Deleting"
   ]
  },
  {
   "cell_type": "code",
   "execution_count": 12,
   "id": "e6520d3f",
   "metadata": {},
   "outputs": [
    {
     "name": "stdout",
     "output_type": "stream",
     "text": [
      "{'key1': 'value1', 'key2': 99}\n",
      "my_key is not in {'key1': 'value1', 'key2': 99}\n"
     ]
    }
   ],
   "source": [
    "my_dict = {'key1': 'value1', 'key2': 99, 'keyx': 'valuex'}\n",
    "del my_dict['keyx']\n",
    "print(my_dict)\n",
    "\n",
    "# Usually better to make sure that the key exists (see also pop() and popitem())\n",
    "key_to_delete = 'my_key'\n",
    "if key_to_delete in my_dict:\n",
    "    del my_dict[key_to_delete]\n",
    "else:\n",
    "    print('{key} is not in {dictionary}'. format(key=key_to_delete, dictionary=my_dict))\n"
   ]
  },
  {
   "cell_type": "markdown",
   "id": "7388eec6",
   "metadata": {},
   "source": [
    "### Dictionaries are mutable"
   ]
  },
  {
   "cell_type": "code",
   "execution_count": 13,
   "id": "71b55fe8",
   "metadata": {},
   "outputs": [
    {
     "name": "stdout",
     "output_type": "stream",
     "text": [
      "my_dict: {'ham': 'good', 'carrot': 'super tasty', 'sausage': 'best ever'}\n",
      "other: {'ham': 'good', 'carrot': 'super tasty', 'sausage': 'best ever'}\n",
      "equal: True\n"
     ]
    }
   ],
   "source": [
    "my_dict = {'ham': 'good', 'carrot': 'semi good'}\n",
    "my_other_dict = my_dict\n",
    "my_other_dict['carrot'] = 'super tasty'\n",
    "my_other_dict['sausage'] = 'best ever'\n",
    "print('my_dict: {}\\nother: {}'.format(my_dict, my_other_dict))\n",
    "print('equal: {}'.format(my_dict == my_other_dict))"
   ]
  },
  {
   "cell_type": "code",
   "execution_count": 14,
   "id": "dc75e92b",
   "metadata": {},
   "outputs": [
    {
     "name": "stdout",
     "output_type": "stream",
     "text": [
      "my_dict: {'ham': 'good', 'carrot': 'semi good'}\n",
      "other: {'ham': 'good', 'carrot': 'semi good', 'beer': 'decent'}\n",
      "equal: False\n"
     ]
    }
   ],
   "source": [
    "my_dict = {'ham': 'good', 'carrot': 'semi good'}\n",
    "my_other_dict = dict(my_dict)\n",
    "my_other_dict['beer'] = 'decent'\n",
    "print('my_dict: {}\\nother: {}'.format(my_dict, my_other_dict))\n",
    "print('equal: {}'.format(my_dict == my_other_dict))"
   ]
  },
  {
   "cell_type": "markdown",
   "id": "fbd7adb7",
   "metadata": {},
   "source": [
    "## dict.get()"
   ]
  },
  {
   "cell_type": "code",
   "execution_count": 15,
   "id": "214c6ffc",
   "metadata": {},
   "outputs": [
    {
     "name": "stdout",
     "output_type": "stream",
     "text": [
      "d: None\n"
     ]
    }
   ],
   "source": [
    "my_dict = {'a': 1, 'b': 2, 'c': 3}\n",
    "d = my_dict.get('d')\n",
    "print('d: {}'.format(d))"
   ]
  },
  {
   "cell_type": "code",
   "execution_count": 16,
   "id": "67cf806c",
   "metadata": {},
   "outputs": [
    {
     "name": "stdout",
     "output_type": "stream",
     "text": [
      "d: my default value\n"
     ]
    }
   ],
   "source": [
    "d = my_dict.get('d', 'my default value')\n",
    "print('d: {}'.format(d))"
   ]
  },
  {
   "cell_type": "markdown",
   "id": "216f99e4",
   "metadata": {},
   "source": [
    "### dict.pop()"
   ]
  },
  {
   "cell_type": "code",
   "execution_count": 20,
   "id": "0e2b3873",
   "metadata": {},
   "outputs": [
    {
     "name": "stdout",
     "output_type": "stream",
     "text": [
      "dict before pops: {'food': 'ham', 'drink': 'beer', 'sport': 'football'}\n",
      "food: ham\n",
      "dict after poping food: {'drink': 'beer', 'sport': 'football'}\n",
      "food_again: dfault value for food\n",
      "dict after popping food again: {'drink': 'beer', 'sport': 'football'}\n"
     ]
    }
   ],
   "source": [
    "my_dict = dict(food = 'ham', drink = 'beer', sport = 'football')\n",
    "print('dict before pops: {}'.format(my_dict))\n",
    "\n",
    "food = my_dict.pop('food')\n",
    "print('food: {}'.format(food))\n",
    "print('dict after poping food: {}'.format(my_dict))\n",
    "\n",
    "\n",
    "food_again = my_dict.pop('food', 'dfault value for food')\n",
    "print('food_again: {}'.format(food_again))\n",
    "print('dict after popping food again: {}'.format(my_dict))\n"
   ]
  },
  {
   "cell_type": "markdown",
   "id": "6bf3c0b9",
   "metadata": {},
   "source": [
    "### dict.setdefault()"
   ]
  },
  {
   "cell_type": "code",
   "execution_count": 21,
   "id": "79d4f5e8",
   "metadata": {},
   "outputs": [
    {
     "name": "stdout",
     "output_type": "stream",
     "text": [
      "a: 1 \n",
      "d: my default value \n",
      "my_dict: {'a': 1, 'b': 2, 'c': 3, 'd': 'my default value'}\n"
     ]
    }
   ],
   "source": [
    "my_dict = {'a': 1, 'b': 2, 'c': 3}\n",
    "a = my_dict.setdefault('a', 'my default value')\n",
    "d = my_dict.setdefault('d', 'my default value')\n",
    "print('a: {} \\nd: {} \\nmy_dict: {}'.format(a, d, my_dict))"
   ]
  },
  {
   "cell_type": "markdown",
   "id": "dfc70b93",
   "metadata": {},
   "source": [
    "### dict.update()"
   ]
  },
  {
   "cell_type": "code",
   "execution_count": 22,
   "id": "84939560",
   "metadata": {},
   "outputs": [
    {
     "name": "stdout",
     "output_type": "stream",
     "text": [
      "{'a': 1, 'b': 2, 'c': 3}\n"
     ]
    }
   ],
   "source": [
    "dict1 = {'a': 1, 'b': 2}\n",
    "dict2 = {'c': 3}\n",
    "dict1.update(dict2)\n",
    "print(dict1)"
   ]
  },
  {
   "cell_type": "code",
   "execution_count": 23,
   "id": "ac59b38d",
   "metadata": {},
   "outputs": [
    {
     "name": "stdout",
     "output_type": "stream",
     "text": [
      "{'a': 1, 'b': 2, 'c': 4}\n"
     ]
    }
   ],
   "source": [
    "dict1.update({'c':4})\n",
    "print(dict1)\n"
   ]
  },
  {
   "cell_type": "markdown",
   "id": "0cd6b276",
   "metadata": {},
   "source": [
    "#### The key of dict have to be immutable"
   ]
  },
  {
   "cell_type": "code",
   "execution_count": 25,
   "id": "29807b96",
   "metadata": {},
   "outputs": [],
   "source": [
    "#bad_list = {['my_list'], 'value'} ## raise Type error"
   ]
  },
  {
   "cell_type": "code",
   "execution_count": 27,
   "id": "901782b6",
   "metadata": {},
   "outputs": [
    {
     "name": "stdout",
     "output_type": "stream",
     "text": [
      "{'my key': ['Python', 'is', 'still', 'cool']}\n"
     ]
    }
   ],
   "source": [
    "#Values can be mutable\n",
    "\n",
    "good_dict = {'my key': ['Python', 'is', 'still', 'cool']}\n",
    "print(good_dict)"
   ]
  },
  {
   "cell_type": "code",
   "execution_count": null,
   "id": "bf46b1bd",
   "metadata": {},
   "outputs": [],
   "source": []
  }
 ],
 "metadata": {
  "kernelspec": {
   "display_name": "python",
   "language": "python",
   "name": "python3"
  },
  "language_info": {
   "codemirror_mode": {
    "name": "ipython",
    "version": 3
   },
   "file_extension": ".py",
   "mimetype": "text/x-python",
   "name": "python",
   "nbconvert_exporter": "python",
   "pygments_lexer": "ipython3",
   "version": "3.10.11"
  }
 },
 "nbformat": 4,
 "nbformat_minor": 5
}
