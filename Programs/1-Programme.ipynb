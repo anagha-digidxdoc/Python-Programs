{
 "cells": [
  {
   "cell_type": "markdown",
   "id": "506a7567",
   "metadata": {},
   "source": [
    "1) Find the largest elments in the array = [1,2,3,2,2,4,5,6,3,3,7,8,8,8]"
   ]
  },
  {
   "cell_type": "code",
   "execution_count": 7,
   "id": "ce63ed10",
   "metadata": {},
   "outputs": [
    {
     "name": "stdout",
     "output_type": "stream",
     "text": [
      "8\n"
     ]
    }
   ],
   "source": [
    "list1 = [1,2,3,2,2,4,5,6,3,3,7,8,8,8]\n",
    "max = list1[0]\n",
    "for i in list1:\n",
    "    if i > max:\n",
    "        max = i\n",
    "print(max)\n"
   ]
  },
  {
   "cell_type": "markdown",
   "id": "e280bf30",
   "metadata": {},
   "source": [
    "Option 2\n"
   ]
  },
  {
   "cell_type": "code",
   "execution_count": 11,
   "id": "32ae98e5",
   "metadata": {},
   "outputs": [
    {
     "name": "stdout",
     "output_type": "stream",
     "text": [
      "8\n"
     ]
    }
   ],
   "source": [
    "max = list1[0]\n",
    "for i in range(len(list1)):\n",
    "    if list1[i] > max:\n",
    "        max = list1[i]\n",
    "\n",
    "print(max)\n"
   ]
  },
  {
   "cell_type": "markdown",
   "id": "451f5676",
   "metadata": {},
   "source": [
    "2. Find the smallest elements in the array = [1,2,3,2,2,4,5,6,3,3,7,8,8,8]"
   ]
  },
  {
   "cell_type": "code",
   "execution_count": 12,
   "id": "6554f0f8",
   "metadata": {},
   "outputs": [
    {
     "name": "stdout",
     "output_type": "stream",
     "text": [
      "1\n"
     ]
    }
   ],
   "source": [
    "min = list1[0]\n",
    "for i in list1:\n",
    "    if i < min:\n",
    "        min = i\n",
    "print(min)"
   ]
  },
  {
   "cell_type": "markdown",
   "id": "642042ea",
   "metadata": {},
   "source": [
    "Option 2"
   ]
  },
  {
   "cell_type": "code",
   "execution_count": 13,
   "id": "249df6d4",
   "metadata": {},
   "outputs": [
    {
     "name": "stdout",
     "output_type": "stream",
     "text": [
      "1\n"
     ]
    }
   ],
   "source": [
    "min = list1[0]\n",
    "for i in range(len(list1)):\n",
    "    if list1[i] < min:\n",
    "        min = list1[i]\n",
    "print(min)"
   ]
  }
 ],
 "metadata": {
  "kernelspec": {
   "display_name": ".venv (3.13.3)",
   "language": "python",
   "name": "python3"
  },
  "language_info": {
   "codemirror_mode": {
    "name": "ipython",
    "version": 3
   },
   "file_extension": ".py",
   "mimetype": "text/x-python",
   "name": "python",
   "nbconvert_exporter": "python",
   "pygments_lexer": "ipython3",
   "version": "3.13.3"
  }
 },
 "nbformat": 4,
 "nbformat_minor": 5
}
