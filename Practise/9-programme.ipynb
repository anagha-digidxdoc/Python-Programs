{
 "cells": [
  {
   "cell_type": "markdown",
   "id": "ec40b59b",
   "metadata": {},
   "source": [
    "1. Skip 2 values after multiple of 5"
   ]
  },
  {
   "cell_type": "markdown",
   "id": "192429af",
   "metadata": {},
   "source": [
    "Method 1"
   ]
  },
  {
   "cell_type": "code",
   "execution_count": 2,
   "id": "35428668",
   "metadata": {},
   "outputs": [
    {
     "name": "stdout",
     "output_type": "stream",
     "text": [
      "[64, 34, 25, 11, 90]\n"
     ]
    }
   ],
   "source": [
    "list1 = [64, 34, 25, 12, 22, 11, 90]\n",
    "result = []\n",
    "i = 0\n",
    "while i < len(list1):\n",
    "    result.append(list1[i])\n",
    "    if list1[i] % 5 == 0:\n",
    "        i += 3\n",
    "    else:\n",
    "        i += 1\n",
    "print(result)"
   ]
  },
  {
   "cell_type": "markdown",
   "id": "fa0b7aab",
   "metadata": {},
   "source": [
    "Method 2"
   ]
  },
  {
   "cell_type": "code",
   "execution_count": 3,
   "id": "c1d8c762",
   "metadata": {},
   "outputs": [
    {
     "name": "stdout",
     "output_type": "stream",
     "text": [
      "[64, 34, 25, 11, 90]\n"
     ]
    }
   ],
   "source": [
    "result = []\n",
    "skip = 0\n",
    "\n",
    "for i in range(len(list1)):\n",
    "    if skip > 0:\n",
    "        skip -= 1\n",
    "        continue\n",
    "    result.append(list1[i])\n",
    "    if list1[i] % 5 == 0:\n",
    "        skip = 2\n",
    "print(result)"
   ]
  },
  {
   "cell_type": "markdown",
   "id": "d8633f09",
   "metadata": {},
   "source": [
    "2. Skip 3 values after multiple of 8"
   ]
  },
  {
   "cell_type": "markdown",
   "id": "5743dcb8",
   "metadata": {},
   "source": [
    "Method 1"
   ]
  },
  {
   "cell_type": "code",
   "execution_count": 4,
   "id": "6ba0a5cf",
   "metadata": {},
   "outputs": [
    {
     "name": "stdout",
     "output_type": "stream",
     "text": [
      "[64, 22, 11, 90]\n"
     ]
    }
   ],
   "source": [
    "list1 = [64,34,25,12,22,11,90]\n",
    "result = []\n",
    "skip = 0\n",
    "for i in range(len(list1)):\n",
    "    if skip > 0:\n",
    "        skip -= 1\n",
    "        continue\n",
    "    result.append(list1[i])\n",
    "    if list1[i] % 8 == 0:\n",
    "        skip = 3\n",
    "print(result)\n"
   ]
  },
  {
   "cell_type": "markdown",
   "id": "5904594d",
   "metadata": {},
   "source": [
    "Method 2"
   ]
  },
  {
   "cell_type": "code",
   "execution_count": 6,
   "id": "1972cd57",
   "metadata": {},
   "outputs": [
    {
     "name": "stdout",
     "output_type": "stream",
     "text": [
      "[64, 22, 11, 90]\n"
     ]
    }
   ],
   "source": [
    "result = []\n",
    "i = 0\n",
    "while i < len(list1):\n",
    "    result.append(list1[i])\n",
    "    if list1[i] % 8 == 0:\n",
    "        i += 4\n",
    "    else:\n",
    "        i += 1\n",
    "print(result)"
   ]
  }
 ],
 "metadata": {
  "kernelspec": {
   "display_name": ".venv (3.13.3)",
   "language": "python",
   "name": "python3"
  },
  "language_info": {
   "codemirror_mode": {
    "name": "ipython",
    "version": 3
   },
   "file_extension": ".py",
   "mimetype": "text/x-python",
   "name": "python",
   "nbconvert_exporter": "python",
   "pygments_lexer": "ipython3",
   "version": "3.13.3"
  }
 },
 "nbformat": 4,
 "nbformat_minor": 5
}
