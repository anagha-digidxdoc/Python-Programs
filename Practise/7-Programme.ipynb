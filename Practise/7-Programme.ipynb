{
 "cells": [
  {
   "cell_type": "markdown",
   "id": "73166698",
   "metadata": {},
   "source": [
    "## Sorting a list"
   ]
  },
  {
   "cell_type": "markdown",
   "id": "be09f9e7",
   "metadata": {},
   "source": [
    "#### 1. Bubble sort\n",
    "Bubble sort is a simple sorting algorithm that repeatedly compares adjacent elements in a list and swaps them if they are in the wrong order.\n",
    "\n",
    "After each pass, the largest element “bubbles up” to the end of the list.\n",
    "\n",
    "This process repeats until the entire list is sorted."
   ]
  },
  {
   "cell_type": "code",
   "execution_count": 2,
   "id": "6c621c60",
   "metadata": {},
   "outputs": [
    {
     "name": "stdout",
     "output_type": "stream",
     "text": [
      "[12, 11, 34, 25, 22, 64, 90]\n"
     ]
    }
   ],
   "source": [
    "list1 = [64, 34, 25, 12, 22, 11, 90]\n",
    "length = len(list1)\n",
    "for i in range(length-1):\n",
    "    for j in range(0, length-i-1):\n",
    "        if list1[i] > list1[j+1]:\n",
    "            list1[j], list1[j+1] = list1[j+1], list1[j]\n",
    "print(list1)"
   ]
  },
  {
   "cell_type": "markdown",
   "id": "f40d431a",
   "metadata": {},
   "source": [
    "#### 2. Selection sort\n",
    "Selection sort is a simple sorting algorithm that works by repeatedly finding the smallest element from the unsorted portion of the list and putting it in its correct position at the front.\n",
    "\n",
    "Unlike bubble sort (which swaps many times per pass), selection sort does only one swap per pass."
   ]
  },
  {
   "cell_type": "code",
   "execution_count": 5,
   "id": "e942b8ff",
   "metadata": {},
   "outputs": [
    {
     "name": "stdout",
     "output_type": "stream",
     "text": [
      "[11, 12, 22, 25, 34, 64, 90]\n"
     ]
    }
   ],
   "source": [
    "list1 = [64, 34, 25, 12, 22, 11, 90]\n",
    "\n",
    "n = len(list1)  # n = 7\n",
    "for i in range(n):\n",
    "    min_idx = i\n",
    "    for j in range(i+1, n):\n",
    "        if list1[j] < list1[min_idx]:\n",
    "            min_idx = j\n",
    "    list1[i], list1[min_idx] = list1[min_idx], list1[i]\n",
    "\n",
    "print(list1)\n"
   ]
  },
  {
   "cell_type": "markdown",
   "id": "33ea630d",
   "metadata": {},
   "source": [
    "#### 3. Insertion sort\n",
    "Insertion sort is a simple sorting algorithm that builds the final sorted list one item at a time.\n",
    "\n",
    "It works the way you might sort playing cards in your hand:\n",
    "\n",
    "Take one card at a time.\n",
    "\n",
    "Compare it with the already sorted cards on the left.\n",
    "\n",
    "Insert it into the correct position."
   ]
  },
  {
   "cell_type": "code",
   "execution_count": 8,
   "id": "d813c143",
   "metadata": {},
   "outputs": [
    {
     "name": "stdout",
     "output_type": "stream",
     "text": [
      "[11, 12, 22, 25, 34, 64, 90]\n"
     ]
    }
   ],
   "source": [
    "list1 = [64, 34, 25, 12, 22, 11, 90]\n",
    "\n",
    "for i in range(1, len(list1)):\n",
    "    key = list1[i]\n",
    "    j = i-1\n",
    "\n",
    "    while j >= 0 and key < list1[j]:\n",
    "        list1[j+1] = list1[j]\n",
    "        j -= 1\n",
    "        list1[j+1] = key\n",
    "print(list1) "
   ]
  },
  {
   "cell_type": "markdown",
   "id": "a9e24e0d",
   "metadata": {},
   "source": [
    "4) Custom sorting with a temporary variable"
   ]
  },
  {
   "cell_type": "code",
   "execution_count": 9,
   "id": "ed41c48c",
   "metadata": {},
   "outputs": [
    {
     "name": "stdout",
     "output_type": "stream",
     "text": [
      "[11, 12, 22, 25, 34, 64, 90]\n"
     ]
    }
   ],
   "source": [
    "list1 = [64, 34, 25, 12, 22, 11, 90]\n",
    "\n",
    "for i in range(len(list1)):\n",
    "    for j in range(i+1, len(list1)):\n",
    "        if list1[i] > list1[j]:\n",
    "            temp = list1[i]\n",
    "            list1[i] = list1[j]\n",
    "            list1[j] = temp\n",
    "print(list1)"
   ]
  }
 ],
 "metadata": {
  "kernelspec": {
   "display_name": ".venv (3.13.3)",
   "language": "python",
   "name": "python3"
  },
  "language_info": {
   "codemirror_mode": {
    "name": "ipython",
    "version": 3
   },
   "file_extension": ".py",
   "mimetype": "text/x-python",
   "name": "python",
   "nbconvert_exporter": "python",
   "pygments_lexer": "ipython3",
   "version": "3.13.3"
  }
 },
 "nbformat": 4,
 "nbformat_minor": 5
}
