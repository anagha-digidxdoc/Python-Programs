{
 "cells": [
  {
   "cell_type": "markdown",
   "id": "45b100b2",
   "metadata": {},
   "source": [
    "1. Merge two list"
   ]
  },
  {
   "cell_type": "code",
   "execution_count": 5,
   "id": "f382957f",
   "metadata": {},
   "outputs": [
    {
     "name": "stdout",
     "output_type": "stream",
     "text": [
      "[1, 2, 3, 2, 2, 4, 5, 6, 3, 3, 7, 8, 8, 8]\n"
     ]
    }
   ],
   "source": [
    "list1 = [1,2,3,2,2,4,5]\n",
    "list2 = [6,3,3,7,8,8,8]\n",
    "print(list1 + list2)"
   ]
  },
  {
   "cell_type": "markdown",
   "id": "e171050c",
   "metadata": {},
   "source": [
    "Option 2"
   ]
  },
  {
   "cell_type": "code",
   "execution_count": 6,
   "id": "6485ebd9",
   "metadata": {},
   "outputs": [
    {
     "name": "stdout",
     "output_type": "stream",
     "text": [
      "[1, 2, 3, 2, 2, 4, 5, 6, 3, 3, 7, 8, 8, 8]\n"
     ]
    }
   ],
   "source": [
    "list1 = [1,2,3,2,2,4,5]\n",
    "list2 = [6,3,3,7,8,8,8]\n",
    "for elements in list2:\n",
    "    list1.append(elements)\n",
    "print(list1)"
   ]
  },
  {
   "cell_type": "markdown",
   "id": "41933b6c",
   "metadata": {},
   "source": [
    "Option 3"
   ]
  },
  {
   "cell_type": "code",
   "execution_count": 8,
   "id": "56e3b8e7",
   "metadata": {},
   "outputs": [
    {
     "name": "stdout",
     "output_type": "stream",
     "text": [
      "[1, 2, 3, 2, 2, 4, 5, 6, 3, 3, 7, 8, 8, 8]\n"
     ]
    }
   ],
   "source": [
    "list1 = [1,2,3,2,2,4,5]\n",
    "list2 = [6,3,3,7,8,8,8]\n",
    "for i in range(len(list2)):\n",
    "    list1 += [list2[i]]\n",
    "print(list1)"
   ]
  }
 ],
 "metadata": {
  "kernelspec": {
   "display_name": ".venv (3.13.3)",
   "language": "python",
   "name": "python3"
  },
  "language_info": {
   "codemirror_mode": {
    "name": "ipython",
    "version": 3
   },
   "file_extension": ".py",
   "mimetype": "text/x-python",
   "name": "python",
   "nbconvert_exporter": "python",
   "pygments_lexer": "ipython3",
   "version": "3.13.3"
  }
 },
 "nbformat": 4,
 "nbformat_minor": 5
}
