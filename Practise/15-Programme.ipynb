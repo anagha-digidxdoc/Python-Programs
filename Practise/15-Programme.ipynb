{
 "cells": [
  {
   "cell_type": "markdown",
   "id": "5c10d98c",
   "metadata": {},
   "source": [
    "1. Count how many times each element appears in the list."
   ]
  },
  {
   "cell_type": "code",
   "execution_count": 1,
   "id": "b94a9d56",
   "metadata": {},
   "outputs": [
    {
     "name": "stdout",
     "output_type": "stream",
     "text": [
      "[1, 4, 5, 6, 7, 10]\n",
      "[2, 3, 8]\n"
     ]
    }
   ],
   "source": [
    "list1 = [1, 2, 3, 2, 2, 4, 5, 6, 3, 3, 7, 8, 8, 10]\n",
    "counts = {}\n",
    "for i in list1:\n",
    "    if i in counts:\n",
    "        counts[i] += 1\n",
    "    else:\n",
    "        counts[i] = 1\n",
    "    \n",
    "unique = []\n",
    "dup = []\n",
    "for i, count in counts.items():\n",
    "    if count == 1:\n",
    "        unique.append(i)\n",
    "    else:\n",
    "        dup.append(i)\n",
    "print(unique)\n",
    "print(dup)\n"
   ]
  },
  {
   "cell_type": "markdown",
   "id": "0f8b090a",
   "metadata": {},
   "source": [
    "Method 2"
   ]
  },
  {
   "cell_type": "code",
   "execution_count": 2,
   "id": "1b8f3d09",
   "metadata": {},
   "outputs": [
    {
     "name": "stdout",
     "output_type": "stream",
     "text": [
      "[1, 4, 5, 6, 7, 10]\n",
      "[8, 2, 3]\n"
     ]
    }
   ],
   "source": [
    "list1 = [1, 2, 3, 2, 2, 4, 5, 6, 3, 3, 7, 8, 8, 10]\n",
    "seen = set()\n",
    "duplicates = set()\n",
    "for num in list1:\n",
    "    if num in seen:\n",
    "        duplicates.add(num)\n",
    "    else:\n",
    "        seen.add(num)\n",
    "unique = list(seen-duplicates)\n",
    "duplicates = list(duplicates)\n",
    "\n",
    "print(unique)\n",
    "print(duplicates)"
   ]
  },
  {
   "cell_type": "markdown",
   "id": "58609353",
   "metadata": {},
   "source": [
    "Method 3"
   ]
  },
  {
   "cell_type": "code",
   "execution_count": null,
   "id": "3129e095",
   "metadata": {},
   "outputs": [
    {
     "name": "stdout",
     "output_type": "stream",
     "text": [
      "[1, 4, 5, 6, 7, 10]\n",
      "[2, 3, 8]\n"
     ]
    }
   ],
   "source": [
    "list1 = [1, 2, 3, 2, 2, 4, 5, 6, 3, 3, 7, 8, 8, 10]\n",
    "unique = []\n",
    "duplicates = []\n",
    "for i in range(len(list1)):\n",
    "    count = 0\n",
    "    for j in range(len(list1)):\n",
    "        if list1[i] == list1[j]:\n",
    "            count += 1\n",
    "\n",
    "    if count == 1 and list1[i] not in unique:\n",
    "        unique.append(list1[i])\n",
    "\n",
    "    elif count > 1 and list1[i] not in duplicates:\n",
    "        duplicates.append(list1[i])\n",
    "\n",
    "print(unique)\n",
    "print(duplicates)"
   ]
  },
  {
   "cell_type": "code",
   "execution_count": null,
   "id": "04a538c3",
   "metadata": {},
   "outputs": [],
   "source": []
  }
 ],
 "metadata": {
  "kernelspec": {
   "display_name": ".venv (3.13.3)",
   "language": "python",
   "name": "python3"
  },
  "language_info": {
   "codemirror_mode": {
    "name": "ipython",
    "version": 3
   },
   "file_extension": ".py",
   "mimetype": "text/x-python",
   "name": "python",
   "nbconvert_exporter": "python",
   "pygments_lexer": "ipython3",
   "version": "3.13.3"
  }
 },
 "nbformat": 4,
 "nbformat_minor": 5
}
