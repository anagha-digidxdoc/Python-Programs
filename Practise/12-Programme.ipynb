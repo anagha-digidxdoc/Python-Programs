{
 "cells": [
  {
   "cell_type": "markdown",
   "id": "3a5a6aee",
   "metadata": {},
   "source": [
    "1. Write a program to find the prime numbers in the array"
   ]
  },
  {
   "cell_type": "code",
   "execution_count": 2,
   "id": "fed00c65",
   "metadata": {},
   "outputs": [
    {
     "name": "stdout",
     "output_type": "stream",
     "text": [
      "[11]\n"
     ]
    }
   ],
   "source": [
    "list1 = [64,34,25,12,22,11,90]\n",
    "prime = []\n",
    "for i in list1:\n",
    "    if i < 1:\n",
    "        continue\n",
    "    for j in range(2, int(i**0.5)+1):\n",
    "        if i % j == 0:\n",
    "            break\n",
    "\n",
    "    else:\n",
    "        prime.append(i)\n",
    "print(prime)\n"
   ]
  },
  {
   "cell_type": "code",
   "execution_count": null,
   "id": "c6ce2ef0",
   "metadata": {},
   "outputs": [],
   "source": []
  }
 ],
 "metadata": {
  "kernelspec": {
   "display_name": ".venv (3.13.3)",
   "language": "python",
   "name": "python3"
  },
  "language_info": {
   "codemirror_mode": {
    "name": "ipython",
    "version": 3
   },
   "file_extension": ".py",
   "mimetype": "text/x-python",
   "name": "python",
   "nbconvert_exporter": "python",
   "pygments_lexer": "ipython3",
   "version": "3.13.3"
  }
 },
 "nbformat": 4,
 "nbformat_minor": 5
}
