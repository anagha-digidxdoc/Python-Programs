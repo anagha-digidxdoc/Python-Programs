{
 "cells": [
  {
   "cell_type": "markdown",
   "id": "9ead248f",
   "metadata": {},
   "source": [
    "1. Find closest number of zero"
   ]
  },
  {
   "cell_type": "code",
   "execution_count": 1,
   "id": "dc214893",
   "metadata": {},
   "outputs": [
    {
     "name": "stdout",
     "output_type": "stream",
     "text": [
      "11\n"
     ]
    }
   ],
   "source": [
    "list1 = [64,34,25,12,22,11,90]\n",
    "closest = None\n",
    "for num in list1:\n",
    "    if closest is None or abs(num) < abs(closest) or (abs(num) == abs(closest) and num > closest):\n",
    "        closest = num\n",
    "print(closest)\n"
   ]
  },
  {
   "cell_type": "markdown",
   "id": "d050006d",
   "metadata": {},
   "source": []
  }
 ],
 "metadata": {
  "kernelspec": {
   "display_name": ".venv (3.13.3)",
   "language": "python",
   "name": "python3"
  },
  "language_info": {
   "codemirror_mode": {
    "name": "ipython",
    "version": 3
   },
   "file_extension": ".py",
   "mimetype": "text/x-python",
   "name": "python",
   "nbconvert_exporter": "python",
   "pygments_lexer": "ipython3",
   "version": "3.13.3"
  }
 },
 "nbformat": 4,
 "nbformat_minor": 5
}
