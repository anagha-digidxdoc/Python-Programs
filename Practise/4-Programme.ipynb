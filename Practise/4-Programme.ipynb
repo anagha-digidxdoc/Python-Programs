{
 "cells": [
  {
   "cell_type": "markdown",
   "id": "e2c0cae7",
   "metadata": {},
   "source": [
    "1. Insert an element at a specified position"
   ]
  },
  {
   "cell_type": "code",
   "execution_count": 1,
   "id": "5f207f4c",
   "metadata": {},
   "outputs": [
    {
     "name": "stdout",
     "output_type": "stream",
     "text": [
      "[1, 2, 3, 2, 2, 10, 5, 6, 3, 3, 7, 8, 8, 8]\n"
     ]
    }
   ],
   "source": [
    "pos = 5\n",
    "list1 = [1,2,3,2,2,4,5,6,3,3,7,8,8,8]\n",
    "list1[5] = 10\n",
    "print(list1)"
   ]
  },
  {
   "cell_type": "markdown",
   "id": "59df0e1e",
   "metadata": {},
   "source": [
    "2. Delete an element from the specified position of the list "
   ]
  },
  {
   "cell_type": "code",
   "execution_count": 2,
   "id": "f2e5798c",
   "metadata": {},
   "outputs": [
    {
     "name": "stdout",
     "output_type": "stream",
     "text": [
      "[1, 2, 3, 2, 2, 4, 5, 3, 3, 7, 8, 8, 8]\n"
     ]
    }
   ],
   "source": [
    "list1 = [1,2,3,2,2,4,5,6,3,3,7,8,8,8]\n",
    "pos = 7\n",
    "if 0 <= pos < len(list1):\n",
    "    for i in range(pos, len(list1)-1):\n",
    "        list1[i] = list1[i+1]\n",
    "    list1 = list1[:-1]\n",
    "print(list1)"
   ]
  },
  {
   "cell_type": "markdown",
   "id": "a1da027c",
   "metadata": {},
   "source": [
    "Option 2"
   ]
  },
  {
   "cell_type": "code",
   "execution_count": 6,
   "id": "57d4d469",
   "metadata": {},
   "outputs": [
    {
     "name": "stdout",
     "output_type": "stream",
     "text": [
      "[1, 2, 3, 2, 2, 4, 5, 3, 3, 7, 8, 8, 8]\n"
     ]
    }
   ],
   "source": [
    "list1 = [1,2,3,2,2,4,5,6,3,3,7,8,8,8]\n",
    "if 0 <= pos < len(list1):\n",
    "    list1.pop(pos)\n",
    "print(list1)"
   ]
  },
  {
   "cell_type": "markdown",
   "id": "e0478351",
   "metadata": {},
   "source": [
    "Option 3"
   ]
  },
  {
   "cell_type": "code",
   "execution_count": 7,
   "id": "c97cd22f",
   "metadata": {},
   "outputs": [
    {
     "name": "stdout",
     "output_type": "stream",
     "text": [
      "[1, 2, 3, 2, 2, 4, 5, 3, 3, 7, 8, 8, 8]\n"
     ]
    }
   ],
   "source": [
    "list1 = [1,2,3,2,2,4,5,6,3,3,7,8,8,8]\n",
    "if 0 <= pos < len(list1):\n",
    "    del list1[pos]\n",
    "print(list1)"
   ]
  }
 ],
 "metadata": {
  "kernelspec": {
   "display_name": ".venv (3.13.3)",
   "language": "python",
   "name": "python3"
  },
  "language_info": {
   "codemirror_mode": {
    "name": "ipython",
    "version": 3
   },
   "file_extension": ".py",
   "mimetype": "text/x-python",
   "name": "python",
   "nbconvert_exporter": "python",
   "pygments_lexer": "ipython3",
   "version": "3.13.3"
  }
 },
 "nbformat": 4,
 "nbformat_minor": 5
}
