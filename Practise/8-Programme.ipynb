{
 "cells": [
  {
   "cell_type": "markdown",
   "id": "c7d34313",
   "metadata": {},
   "source": [
    "14) find the kth largest element  in the array"
   ]
  },
  {
   "cell_type": "code",
   "execution_count": 5,
   "id": "54f0122e",
   "metadata": {},
   "outputs": [
    {
     "name": "stdout",
     "output_type": "stream",
     "text": [
      "[10, 8, 7, 6, 5, 4, 3, 2, 1]\n",
      "Kth largest element is:  6\n"
     ]
    }
   ],
   "source": [
    "list1 = [1,2,3,2,2,4,5,6,3,3,7,8,8,10]\n",
    "k = 4\n",
    "unilist = []\n",
    "duplist = []\n",
    "\n",
    "for i in list1:\n",
    "    if i in unilist:\n",
    "        duplist.append(i)\n",
    "    else:\n",
    "        unilist.append(i)\n",
    "n = len(unilist)\n",
    "for i in range(n):\n",
    "    for j in range(i+1, n):\n",
    "        if unilist[j] > unilist[i]:\n",
    "            unilist[j], unilist[i] = unilist[i], unilist[j]\n",
    "print(unilist)\n",
    "print(\"Kth largest element is: \",unilist[k-1])"
   ]
  }
 ],
 "metadata": {
  "kernelspec": {
   "display_name": ".venv (3.13.3)",
   "language": "python",
   "name": "python3"
  },
  "language_info": {
   "codemirror_mode": {
    "name": "ipython",
    "version": 3
   },
   "file_extension": ".py",
   "mimetype": "text/x-python",
   "name": "python",
   "nbconvert_exporter": "python",
   "pygments_lexer": "ipython3",
   "version": "3.13.3"
  }
 },
 "nbformat": 4,
 "nbformat_minor": 5
}
