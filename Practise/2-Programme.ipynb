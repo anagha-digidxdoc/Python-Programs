{
 "cells": [
  {
   "cell_type": "markdown",
   "id": "b1152c62",
   "metadata": {},
   "source": [
    "1) Calculate the average of all the elemenents in this array [1,2,3,2,2,4,5,6,3,3,7,8,8,8]"
   ]
  },
  {
   "cell_type": "code",
   "execution_count": 1,
   "id": "b6bc4bc9",
   "metadata": {},
   "outputs": [
    {
     "name": "stdout",
     "output_type": "stream",
     "text": [
      "4.428571428571429\n"
     ]
    }
   ],
   "source": [
    "list1 = [1,2,3,2,2,4,5,6,3,3,7,8,8,8]\n",
    "sum = 0\n",
    "avg = 0\n",
    "for i in list1:\n",
    "    sum += i\n",
    "avg = sum /len(list1)\n",
    "print(avg)\n"
   ]
  },
  {
   "cell_type": "markdown",
   "id": "81466bb2",
   "metadata": {},
   "source": [
    "2. find the average of all the even numbers in the array"
   ]
  },
  {
   "cell_type": "code",
   "execution_count": 3,
   "id": "eb613a44",
   "metadata": {},
   "outputs": [
    {
     "name": "stdout",
     "output_type": "stream",
     "text": [
      "5.0\n"
     ]
    }
   ],
   "source": [
    "sum = 0\n",
    "avg = 0\n",
    "count = 0\n",
    "for i in list1:\n",
    "    if i % 2 == 0:\n",
    "        sum += i\n",
    "        count += 1\n",
    "avg = sum / count\n",
    "print(avg)"
   ]
  },
  {
   "cell_type": "markdown",
   "id": "0024e462",
   "metadata": {},
   "source": [
    "3. find the average of all the odd numbers in the list [1,2,3,2,2,4,5,6,3,3,7,8,8,8]"
   ]
  },
  {
   "cell_type": "code",
   "execution_count": 5,
   "id": "7852a75f",
   "metadata": {},
   "outputs": [
    {
     "name": "stdout",
     "output_type": "stream",
     "text": [
      "3.6666666666666665\n"
     ]
    }
   ],
   "source": [
    "sum = 0\n",
    "avg = 0\n",
    "count = 0\n",
    "for i in list1:\n",
    "    if i % 2 != 0:\n",
    "        sum += i\n",
    "        count += 1\n",
    "avg = sum / count\n",
    "print(avg)"
   ]
  }
 ],
 "metadata": {
  "kernelspec": {
   "display_name": ".venv (3.13.3)",
   "language": "python",
   "name": "python3"
  },
  "language_info": {
   "codemirror_mode": {
    "name": "ipython",
    "version": 3
   },
   "file_extension": ".py",
   "mimetype": "text/x-python",
   "name": "python",
   "nbconvert_exporter": "python",
   "pygments_lexer": "ipython3",
   "version": "3.13.3"
  }
 },
 "nbformat": 4,
 "nbformat_minor": 5
}
