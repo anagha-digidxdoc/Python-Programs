{
 "cells": [
  {
   "cell_type": "markdown",
   "id": "5cf0093e",
   "metadata": {},
   "source": [
    "1. Write a program to delete two elements after the occurance of a prime number \n",
    "and replace all even numbers by 0"
   ]
  },
  {
   "cell_type": "code",
   "execution_count": null,
   "id": "f7170f05",
   "metadata": {},
   "outputs": [
    {
     "name": "stdout",
     "output_type": "stream",
     "text": [
      "[0, 0, 11, 0]\n"
     ]
    }
   ],
   "source": [
    "list1 = [64, 34, 11, 12, 22, 90]\n",
    "out_put = []\n",
    "i = 0\n",
    "\n",
    "while i < len(list1):\n",
    "    is_prime = True\n",
    "    if list1[i] <= 1:\n",
    "        is_prime = False\n",
    "    else:\n",
    "        for j in range(2, int(list1[i]**0.5)+1):\n",
    "            if list1[i] % j == 0:\n",
    "                is_prime = False\n",
    "                break\n",
    "    if is_prime:\n",
    "        out_put.append(list1[i])\n",
    "        i += 1  \n",
    "        i += 2\n",
    "    elif list1[i] % 2 == 0:\n",
    "        out_put.append(0)\n",
    "        i += 1\n",
    "    else:\n",
    "        out_put.append(list1[i])\n",
    "        i += 1\n",
    "\n",
    "print(out_put)\n",
    "\n"
   ]
  },
  {
   "cell_type": "markdown",
   "id": "ad14ea57",
   "metadata": {},
   "source": [
    "Method 2"
   ]
  },
  {
   "cell_type": "code",
   "execution_count": 9,
   "id": "b748fecd",
   "metadata": {},
   "outputs": [
    {
     "name": "stdout",
     "output_type": "stream",
     "text": [
      "[3, 0, 11, 2, 0, 0]\n"
     ]
    }
   ],
   "source": [
    "list1 = [3, 5, 8, 10, 11, 15, 20, 2, 9, 7, 6, 12]\n",
    "\n",
    "result = []\n",
    "skip = 0\n",
    "for i in range(len(list1)):\n",
    "    if skip > 0:\n",
    "        skip -= 1\n",
    "        continue\n",
    "    is_prime = True\n",
    "    if list1[i] <= 1:\n",
    "        is_prime = False\n",
    "    else:\n",
    "        for j in range(2, int(list1[i]**0.5)+1):\n",
    "            if list1[i]% j == 0:\n",
    "                is_prime = False\n",
    "                break\n",
    "    if is_prime:\n",
    "        result.append(list1[i])\n",
    "        skip = 2\n",
    "    elif list1[i] % 2 == 0:\n",
    "        result.append(0)\n",
    "    else:\n",
    "        result.append(list1[i])\n",
    "print(result)\n",
    "    \n",
    "\n",
    "\n"
   ]
  },
  {
   "cell_type": "code",
   "execution_count": null,
   "id": "f6a0ee97",
   "metadata": {},
   "outputs": [],
   "source": []
  }
 ],
 "metadata": {
  "kernelspec": {
   "display_name": ".venv (3.13.3)",
   "language": "python",
   "name": "python3"
  },
  "language_info": {
   "codemirror_mode": {
    "name": "ipython",
    "version": 3
   },
   "file_extension": ".py",
   "mimetype": "text/x-python",
   "name": "python",
   "nbconvert_exporter": "python",
   "pygments_lexer": "ipython3",
   "version": "3.13.3"
  }
 },
 "nbformat": 4,
 "nbformat_minor": 5
}
