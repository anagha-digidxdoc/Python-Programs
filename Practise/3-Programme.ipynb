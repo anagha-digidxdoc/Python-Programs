{
 "cells": [
  {
   "cell_type": "markdown",
   "id": "abb233d9",
   "metadata": {},
   "source": [
    "1) Reverse the elements in the array [1,2,3,2,2,4,5,6,3,3,7,8,8,8]"
   ]
  },
  {
   "cell_type": "code",
   "execution_count": 1,
   "id": "934932a3",
   "metadata": {},
   "outputs": [
    {
     "name": "stdout",
     "output_type": "stream",
     "text": [
      "[8, 8, 8, 7, 3, 3, 6, 5, 4, 2, 2, 3, 2, 1]\n"
     ]
    }
   ],
   "source": [
    "list1 = [1,2,3,2,2,4,5,6,3,3,7,8,8,8]\n",
    "\n",
    "temp = 0\n",
    "for i in range(len(list1)//2):\n",
    "    temp = list1[i]\n",
    "    list1[i] = list1[len(list1)-i-1]\n",
    "    list1[len(list1)-i-1] = temp \n",
    "print(list1)"
   ]
  },
  {
   "cell_type": "markdown",
   "id": "55c528a6",
   "metadata": {},
   "source": [
    "Option 2"
   ]
  },
  {
   "cell_type": "code",
   "execution_count": 3,
   "id": "fe16bc32",
   "metadata": {},
   "outputs": [
    {
     "name": "stdout",
     "output_type": "stream",
     "text": [
      "[8, 8, 8, 7, 3, 3, 6, 5, 4, 2, 2, 3, 2, 1]\n"
     ]
    }
   ],
   "source": [
    "list1 = [1,2,3,2,2,4,5,6,3,3,7,8,8,8]\n",
    "for i in range(len(list1)//2):\n",
    "    list1[i], list1[len(list1)-i-1] = list1[len(list1)-i-1], list1[i]\n",
    "print(list1)"
   ]
  },
  {
   "cell_type": "code",
   "execution_count": null,
   "id": "f3a1eeb0",
   "metadata": {},
   "outputs": [],
   "source": []
  }
 ],
 "metadata": {
  "kernelspec": {
   "display_name": ".venv (3.13.3)",
   "language": "python",
   "name": "python3"
  },
  "language_info": {
   "codemirror_mode": {
    "name": "ipython",
    "version": 3
   },
   "file_extension": ".py",
   "mimetype": "text/x-python",
   "name": "python",
   "nbconvert_exporter": "python",
   "pygments_lexer": "ipython3",
   "version": "3.13.3"
  }
 },
 "nbformat": 4,
 "nbformat_minor": 5
}
