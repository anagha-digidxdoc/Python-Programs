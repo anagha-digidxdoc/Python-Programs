{
 "cells": [
  {
   "cell_type": "markdown",
   "id": "cf2014e0",
   "metadata": {},
   "source": [
    "1. Replace all the prime numbers withe '*' and remove all the odd numbers"
   ]
  },
  {
   "cell_type": "code",
   "execution_count": 1,
   "id": "2a1c1181",
   "metadata": {},
   "outputs": [
    {
     "name": "stdout",
     "output_type": "stream",
     "text": [
      "['*', '*', 8, 10, '*', 20, '*', '*', 6, 12]\n"
     ]
    }
   ],
   "source": [
    "list1 = [3, 5, 8, 10, 11, 15, 20, 2, 9, 7, 6, 12]\n",
    "\n",
    "result = []\n",
    "for i in range (len(list1)):\n",
    "    is_prime = True\n",
    "    if list1[i] <= 1:\n",
    "        is_prime = False\n",
    "    else:\n",
    "        for j in range(2, int(list1[i]**0.5)+1):\n",
    "            if list1[i]% j == 0:\n",
    "                is_prime = False\n",
    "                break\n",
    "    if is_prime:\n",
    "        result.append('*')\n",
    "    elif list1[i] % 2 != 0:\n",
    "        continue\n",
    "    else:\n",
    "        result.append(list1[i])\n",
    "print(result)"
   ]
  }
 ],
 "metadata": {
  "kernelspec": {
   "display_name": ".venv (3.13.3)",
   "language": "python",
   "name": "python3"
  },
  "language_info": {
   "codemirror_mode": {
    "name": "ipython",
    "version": 3
   },
   "file_extension": ".py",
   "mimetype": "text/x-python",
   "name": "python",
   "nbconvert_exporter": "python",
   "pygments_lexer": "ipython3",
   "version": "3.13.3"
  }
 },
 "nbformat": 4,
 "nbformat_minor": 5
}
