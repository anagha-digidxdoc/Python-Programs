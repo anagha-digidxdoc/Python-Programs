{
 "cells": [
  {
   "cell_type": "markdown",
   "id": "269c4a5e",
   "metadata": {},
   "source": [
    "1. Write a program to find the second largest number in an array"
   ]
  },
  {
   "cell_type": "code",
   "execution_count": 2,
   "id": "5ddfefbb",
   "metadata": {},
   "outputs": [
    {
     "name": "stdout",
     "output_type": "stream",
     "text": [
      "8\n"
     ]
    }
   ],
   "source": [
    "list1 = [1,2,3,2,2,4,5,6,3,3,7,8,8,10]\n",
    "largest = list1[0]\n",
    "slargest = list1[1]\n",
    "\n",
    "for i in list1:\n",
    "    if i > largest:\n",
    "        slargest = largest\n",
    "        largest = i\n",
    "    if i > slargest and i < largest:\n",
    "        slargest = i\n",
    "print(slargest)\n"
   ]
  },
  {
   "cell_type": "markdown",
   "id": "1e6c9417",
   "metadata": {},
   "source": [
    "2. Write a program to find the second smallest number in an array?"
   ]
  },
  {
   "cell_type": "code",
   "execution_count": 4,
   "id": "c5ad1e4d",
   "metadata": {},
   "outputs": [
    {
     "name": "stdout",
     "output_type": "stream",
     "text": [
      "2\n"
     ]
    }
   ],
   "source": [
    "list1 = [1,2,3,2,2,4,5,6,3,3,7,8,8,10]\n",
    "smallest = list1[0]\n",
    "second_smallest = list1[1]\n",
    "for i in list1:\n",
    "    if i < smallest :\n",
    "        second_smallest = smallest\n",
    "        smallest = i\n",
    "    if i < second_smallest and i > smallest:\n",
    "        second_smallest = i\n",
    "print(second_smallest)"
   ]
  },
  {
   "cell_type": "markdown",
   "id": "25d8a32b",
   "metadata": {},
   "source": [
    "3. Find the third largest element without sorting"
   ]
  },
  {
   "cell_type": "code",
   "execution_count": 6,
   "id": "3dcc326b",
   "metadata": {},
   "outputs": [
    {
     "name": "stdout",
     "output_type": "stream",
     "text": [
      "7\n"
     ]
    }
   ],
   "source": [
    "list1 = [1,2,3,2,2,4,5,6,3,3,7,8,8,10]\n",
    "largest = list1[0]\n",
    "second_largest = list1[1]\n",
    "third_largest = list1[2]\n",
    "for i in list1:\n",
    "    if i > largest:\n",
    "        third_largest = second_largest\n",
    "        second_largest = largest\n",
    "        largest = i\n",
    "    elif i > second_largest and i < largest:\n",
    "        third_largest = second_largest\n",
    "        second_largest = i\n",
    "    elif i > third_largest and i < second_largest:\n",
    "        third_largest = i\n",
    "print(third_largest)\n"
   ]
  },
  {
   "cell_type": "markdown",
   "id": "e99cab04",
   "metadata": {},
   "source": [
    "4. Find the third smallest element without sorting"
   ]
  },
  {
   "cell_type": "code",
   "execution_count": 8,
   "id": "a4a1bb18",
   "metadata": {},
   "outputs": [
    {
     "name": "stdout",
     "output_type": "stream",
     "text": [
      "3\n"
     ]
    }
   ],
   "source": [
    "list1 = [1,2,3,2,2,4,5,6,3,3,7,8,8,10]\n",
    "smallest = list1[0]\n",
    "second_smallest = list1[1]\n",
    "third_smallest = list1[2]\n",
    "for i in list1:\n",
    "    if i < smallest:\n",
    "        third_smallest = second_smallest\n",
    "        second_smallest = smallest\n",
    "        smallest = i\n",
    "    elif i < second_smallest and i >smallest:\n",
    "        third_smallest = second_smallest\n",
    "        second_smallest = i\n",
    "    elif i < third_smallest and i > second_smallest:\n",
    "        third_smallest = i\n",
    "print(third_smallest)"
   ]
  }
 ],
 "metadata": {
  "kernelspec": {
   "display_name": ".venv (3.13.3)",
   "language": "python",
   "name": "python3"
  },
  "language_info": {
   "codemirror_mode": {
    "name": "ipython",
    "version": 3
   },
   "file_extension": ".py",
   "mimetype": "text/x-python",
   "name": "python",
   "nbconvert_exporter": "python",
   "pygments_lexer": "ipython3",
   "version": "3.13.3"
  }
 },
 "nbformat": 4,
 "nbformat_minor": 5
}
