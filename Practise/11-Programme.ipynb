{
 "cells": [
  {
   "cell_type": "markdown",
   "id": "e125fa5f",
   "metadata": {},
   "source": [
    "1. How to merge two unsorted arrays in sorted order \n"
   ]
  },
  {
   "cell_type": "code",
   "execution_count": 1,
   "id": "e3f5efb2",
   "metadata": {},
   "outputs": [
    {
     "name": "stdout",
     "output_type": "stream",
     "text": [
      "[5, 11, 12, 22, 25, 34, 64, 90]\n"
     ]
    }
   ],
   "source": [
    "list1 = [64, 34, 25, 12]\n",
    "list2 = [22, 11, 90, 5]\n",
    "mer_list = list1 + list2\n",
    "n = len(mer_list)\n",
    "for i in range(n):\n",
    "    for j in range(0, n-i-1):\n",
    "        if mer_list[j] > mer_list[j+1]:\n",
    "            mer_list[j], mer_list[j+1] = mer_list[j+1], mer_list[j]\n",
    "print(mer_list)\n",
    "\n"
   ]
  },
  {
   "cell_type": "markdown",
   "id": "6588971b",
   "metadata": {},
   "source": [
    "2. Write a program to copy the elements in one array into another array"
   ]
  },
  {
   "cell_type": "code",
   "execution_count": 5,
   "id": "fe4ced7b",
   "metadata": {},
   "outputs": [
    {
     "name": "stdout",
     "output_type": "stream",
     "text": [
      "List2 is : [64, 34, 25, 12, 22, 11, 90]\n"
     ]
    }
   ],
   "source": [
    "list1 = [64,34,25,12,22,11,90]\n",
    "list2 = []\n",
    "for i in list1:\n",
    "    list2.append(i)\n",
    "print(\"List2 is :\",list2)"
   ]
  }
 ],
 "metadata": {
  "kernelspec": {
   "display_name": ".venv (3.13.3)",
   "language": "python",
   "name": "python3"
  },
  "language_info": {
   "codemirror_mode": {
    "name": "ipython",
    "version": 3
   },
   "file_extension": ".py",
   "mimetype": "text/x-python",
   "name": "python",
   "nbconvert_exporter": "python",
   "pygments_lexer": "ipython3",
   "version": "3.13.3"
  }
 },
 "nbformat": 4,
 "nbformat_minor": 5
}
